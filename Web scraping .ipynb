{
 "cells": [
  {
   "cell_type": "code",
   "execution_count": 1,
   "id": "09d841dc",
   "metadata": {},
   "outputs": [],
   "source": [
    "import pandas as pd\n",
    "import requests\n",
    "from bs4 import BeautifulSoup\n",
    "import numpy as np"
   ]
  },
  {
   "cell_type": "markdown",
   "id": "303148c8",
   "metadata": {},
   "source": [
    "# if response code is 403"
   ]
  },
  {
   "cell_type": "code",
   "execution_count": 2,
   "id": "8bc0a7d8",
   "metadata": {},
   "outputs": [],
   "source": [
    "webpage=requests.get('https://www.ambitionbox.com/list-of-companies?page=1').text"
   ]
  },
  {
   "cell_type": "code",
   "execution_count": 3,
   "id": "cbd46c31",
   "metadata": {},
   "outputs": [],
   "source": [
    "#headers={'User-Agent':'Mozilla/5.0 (Windows NT 6.3; Win 64 ; x64) Apple WeKit /537.36(KHTML , like Gecko) Chrome/80.0.3987.162 Safari/537.36'}- \n",
    "#requests.get('url',headers=headers).text"
   ]
  },
  {
   "cell_type": "code",
   "execution_count": 4,
   "id": "5cabaca5",
   "metadata": {},
   "outputs": [],
   "source": [
    "soup=BeautifulSoup(webpage,'lxml')"
   ]
  },
  {
   "cell_type": "code",
   "execution_count": null,
   "id": "7f5866df",
   "metadata": {},
   "outputs": [],
   "source": [
    "print(soup.prettify())"
   ]
  },
  {
   "cell_type": "code",
   "execution_count": 6,
   "id": "0281a566",
   "metadata": {},
   "outputs": [
    {
     "data": {
      "text/plain": [
       "'List of companies in India'"
      ]
     },
     "execution_count": 6,
     "metadata": {},
     "output_type": "execute_result"
    }
   ],
   "source": [
    "soup.find_all('h1')[0].text"
   ]
  },
  {
   "cell_type": "markdown",
   "id": "c3a356cd",
   "metadata": {},
   "source": [
    "# TO FIND OUT NAMES OF THE COMPANIES"
   ]
  },
  {
   "cell_type": "code",
   "execution_count": 7,
   "id": "c59c6bfe",
   "metadata": {},
   "outputs": [
    {
     "name": "stdout",
     "output_type": "stream",
     "text": [
      "TCS\n",
      "Accenture\n",
      "Cognizant\n",
      "ICICI Bank\n",
      "HDFC Bank\n",
      "Wipro\n",
      "Infosys\n",
      "Capgemini\n",
      "Tech Mahindra\n",
      "Genpact\n",
      "HCL Technologies\n",
      "Axis Bank\n",
      "Amazon\n",
      "IBM\n",
      "Concentrix Corpo...\n",
      "Larsen & Toubro ...\n",
      "Reliance jio\n",
      "Vodafone Idea\n",
      "HDB Financial Se...\n",
      "Teleperformance\n",
      "Kotak Mahindra B...\n",
      "Bharti Airtel\n",
      "Reliance Industr...\n",
      "Deloitte\n",
      "Tata Motors\n",
      "Reliance Retail\n",
      "WNS\n",
      "Mahindra & Mahin...\n",
      "IndusInd Bank\n",
      "Flipkart\n"
     ]
    }
   ],
   "source": [
    "for i in soup.find_all('h2'):\n",
    "  print(i.text.strip())"
   ]
  },
  {
   "cell_type": "code",
   "execution_count": 8,
   "id": "8faf4cdd",
   "metadata": {},
   "outputs": [
    {
     "name": "stdout",
     "output_type": "stream",
     "text": [
      "AmbitionBox\n",
      "Discover best places to work\n",
      "Compare & find best workplace\n",
      "Read reviews for 6L+ companies\n",
      "Rate your former or current company\n",
      "Discover salaries for 6L+ companies\n",
      "Calculate Your take home salary\n",
      "Help other jobseekers\n",
      "Read interviews for 40K+ companies\n",
      "Interviews questions for 1K+ colleges\n",
      "Contribute your interview questions\n",
      "Discover Best Places to Work!\n",
      "Company reviews. Salaries. Interviews. Jobs.\n",
      "About Company\n",
      "7,01,359 unique\n",
      "\t\t\tcompanies found\n",
      "Sort By:\n",
      "Popular\n",
      "3.9\n",
      "#6 Best Mega Company - 2021\n",
      "Public\n",
      "Mumbai,Maharashtra + 267 more\n",
      "54 years old\n",
      "1 Lakh+ Employees (India)\n",
      "We ensure the highest levels of certainty and satisfaction through a deep-set commitment to our clients, comprehensive industry expertise and a global network of innovation and delivery centers.\n",
      "\n",
      "We function as a full stakeholder to business, offering a consulting-led approach with an integrated portfolio of technology led solutions that encompass the entire Enterprise value chain. Our Customer-centric Engagement Model defines how we do engage with you, offering specialized services and solutions that meet the distinct needs of your business.\n",
      "\n",
      "We build bespoke teams around your domain and technology requirements drawn from our talent pool of over 488,649 global professionals including 36.5% women from 154 nationalities. Our domain expertise has been built upon decades of experience working across industries and this knowledge underpins our suite of solutions.\n",
      "\n",
      "Our organization structure is domain led and empowered to help provide Customers a single window to industry specific solutions. Agile industry units have embedded capabilities to enable rapid responses that provide a competitive edge to our Customers. This is coupled with a unique Global Network Delivery Model™ (GNDM™), spanning 40 global locations, that is today recognized as the benchmark of excellence in technology deployment.\n",
      "\n",
      "We have made significant investments in Digital platforms and products spanning Technology Products, Horizontal Platforms and Products, Vertical Platforms and Products.\n",
      "4.2\n",
      "#11 Best Mega Company - 2021\n",
      "Public\n",
      "Dublin + 142 more\n",
      "33 years old\n",
      "1 Lakh+ Employees (India)\n",
      "Accenture is a global professional services company with leading capabilities in digital, cloud, and security. Combining unmatched experience and specialized skills across more than 40 industries, we offer Strategy and Consulting, Interactive, Technology, and Operations services — all powered by the world’s largest network of Advanced Technology and Intelligent Operations centers. Our 674,000 people deliver on the promise of technology and human ingenuity every day, serving clients in more than 120 countries. We embrace the power of change to create value and shared success for our clients, people, shareholders, partners, and communities. Visit us at accenture.com.\n",
      "4.0\n",
      "Private\n",
      "Teaneck. New Jersey. + 94 more\n",
      "28 years old\n",
      "1 Lakh+ Employees (India)\n",
      "At Cognizant, we give organizations the insights to anticipate what customers want and act instantly to deliver on those demands. So they can achieve the goal of every modern business: staying one step ahead of a fast-changing world.\n",
      "4.0\n",
      "#10 Best Mega Company - 2021\n",
      "Public\n",
      "Mumbai,Maharashtra + 1032 more\n",
      "28 years old\n",
      "1 Lakh+ Employees (India)\n",
      "ICICI Bank is a leading private sector bank in India. The Bank’s consolidated total assets stood at Rs. 14.76 trillion at September 30, 2020.  ICICI Bank currently has a network of 5,288 branches and 13,875 ATMs across India.\n",
      "4.0\n",
      "#9 Best Mega Company - 2021\n",
      "Public\n",
      "Mumbai,Maharashtra + 1189 more\n",
      "28 years old\n",
      "1 Lakh+ Employees (India)\n",
      "The Housing Development Finance Corporation Limited or HDFC was among the first financial institutions in India to receive an “in principle” approval from the Reserve Bank of India (RBI) to set up a bank in the private sector. This was done as part of RBI’s policy for the liberalization of the Indian banking industry in 1994.\n",
      "\n",
      "HDFC Bank was incorporated in August 1994 in the name of HDFC Bank Limited, with its registered office in Mumbai, India. The bank commenced operations as a Scheduled Commercial Bank in January 1995. As of March 31, 2021, the Bank had a nationwide distribution network of 5,608 branches and 16,087 ATMs in 2,902 cities/towns.\n",
      "3.9\n",
      "#14 Best Mega Company - 2021\n",
      "Public\n",
      "Bangalore/Bengaluru,Karnataka + 227 more\n",
      "77 years old\n",
      "1 Lakh+ Employees (India)\n",
      "Wipro Limited (NYSE: WIT, BSE: 507685, NSE: WIPRO) is a leading global information technology, consulting, and business process services company.\n",
      "\n",
      "We harness the power of cognitive computing, hyper-automation, robotics, cloud, analytics, and emerging technologies to help our clients adapt to the digital world and make them successful.\n",
      "\n",
      "A company recognized globally for its comprehensive portfolio of services, a strong commitment to sustainability, and good corporate citizenship, we have over 243,000 dedicated employees serving clients across six continents.\n",
      "\n",
      "Together, we discover ideas and connect the dots to build a better and bold new future.\n",
      "3.9\n",
      "#12 Best Mega Company - 2021\n",
      "Public\n",
      "Bengaluru/Bangalore,Karnataka + 122 more\n",
      "41 years old\n",
      "1 Lakh+ Employees (India)\n",
      "Infosys is a global leader in next-generation digital services and consulting. Over 300,000 of our people work to amplify human potential and create the next opportunity for people, businesses, and communities. \n",
      "\n",
      "With over four decades of experience in managing the systems and workings of global enterprises, we expertly steer clients, in more than 50 countries, as they navigate their digital transformation powered by the cloud. \n",
      "\n",
      "We enable them with an AI-powered core, empower the business with agile digital at scale and drive continuous improvement with always-on learning through the transfer of digital skills, expertise, and ideas from our innovation ecosystem. We are deeply committed to being a well-governed, environmentally sustainable organization where diverse talent thrives in an inclusive workplace.\n",
      "\n",
      "Our purpose is to amplify human potential and create the next opportunity for people, businesses, and communities.\n",
      "3.9\n",
      "Public\n",
      "Paris + 75 more\n",
      "55 years old\n",
      "1 Lakh+ Employees (India)\n",
      "Capgemini is a global leader in consulting, digital transformation, technology, and engineering services. The Group is at the forefront of innovation to address the entire breadth of clients’ opportunities in the evolving world of cloud, digital, and platforms.\n",
      "3.8\n",
      "Public\n",
      "Pune,Maharashtra + 205 more\n",
      "36 years old\n",
      "50k-1 Lakh Employees (India)\n",
      "Tech Mahindra offers innovative and customer-centric digital experiences, enabling enterprises, associates, and society to rise. We are a USD 5.1 billion organization with 141,100+ professionals across 90 countries helping 1123 global customers, including Fortune 500 companies. \n",
      "\n",
      "We are focused on leveraging next-generation technologies including 5G, Blockchain, Cybersecurity, Artificial Intelligence, and more, to enable end-to-end digital transformation for global customers. Tech Mahindra is one of the fastest-growing brands and amongst the top 15 IT service providers globally. \n",
      "\n",
      "Tech Mahindra has consistently emerged as a leader in sustainability and is recognized amongst the ‘2021 Global 100 Most sustainable corporations in the World’ by Corporate Knights. With the NXT.NOW™ framework, Tech Mahindra aims to enhance ‘Human Centric Experience’ for our ecosystem and drive collaborative disruption with synergies arising from a robust portfolio of companies. \n",
      "\n",
      "Tech Mahindra aims at delivering tomorrow’s experiences today and believes that the ‘Future is Now.\n",
      "\n",
      "We are part of the Mahindra Group, founded in 1945, one of the largest and most admired multinational federations of companies with 260,000 employees in over 100 countries. It enjoys a leadership position in farm equipment, utility vehicles, information technology, and financial services in India and is the world’s largest tractor company by volume. It has a strong presence in renewable energy, agriculture, logistics, hospitality, and real estate. \n",
      "\n",
      "The Mahindra Group has a clear focus on leading ESG globally, enabling rural prosperity and enhancing urban living, with a goal to drive positive change in the lives of communities and stakeholders to enable them to rise.\n",
      "4.0\n",
      "#8 Best Mega Company - 2021\n",
      "Public\n",
      "New York,New York + 66 more\n",
      "25 years old\n",
      "50k-1 Lakh Employees (India)\n",
      "Change is constant. At Genpact, we’re the ones driving it. We think with design, dream in digital, and solve problems with data and analytics. We obsess over operations and focus on the details – all 78,000+ of us. And you could be one of us!\n",
      "We are a global professional services firm that makes business transformation real. We drive digital-led innovation and digitally-enabled intelligent operations for our clients, guided by our experience running thousands of processes for hundreds of Global Fortune 500 companies.\n",
      "From New York to New Delhi and more than 20 countries in between, Genpact has the end-to-end expertise to connect every dot, reimagine every process, and reinvent companies’ ways of working. And it offers you an unparalleled opportunity to grow and transform your career.\n",
      "3.9\n",
      "#13 Best Mega Company - 2021\n",
      "Public\n",
      "Noida,Uttar Pradesh + 136 more\n",
      "31 years old\n",
      "1 Lakh+ Employees (India)\n",
      "HCL Technologies is a next-generation global technology company that helps enterprises reimagine their businesses for the digital age. Our technology products and services are built on four decades of innovation, with a world-renowned management philosophy, a strong culture of invention and risk-taking, and a relentless focus on customer relationships. HCL also takes pride in its many diversity, social responsibility, sustainability, and education initiatives. Through its worldwide network of R&D facilities and co-innovation labs, global delivery capabilities, and over 168,000+ ‘Ideapreneurs’ across 50 countries, HCL delivers holistic services across industry verticals to leading enterprises, including 250 of the Fortune 500 and 650 of the Global 2000.\n",
      "Enterprises across industries stand at an inflection point today. In order to thrive in the digital age, technologies such as analytics, cloud, IoT, and automation occupy center stage. In order to offer enterprises the maximum benefit of these technologies to further their business objectives, HCL offers an integrated portfolio of products and services through three business units. These are IT and Business Services (ITBS), Engineering and R&D Services (ERS), and Products and Platforms (P&P).\n",
      "ITBS enables global enterprises to transform their businesses via Digital Foundation, our modernized infrastructure stack built around hybrid cloud, software-defined networks, the digital workplace, and other elements; Digital Business, a combination of our application services and consulting capabilities; and Digital Operations, a three-pronged setup for modernized and efficient operations at enterprise level.\n",
      "ERS offers engineering services and solutions in all aspects of product development and platform engineering.\n",
      "Under P&P, HCL provides modernized software products to global clients for their technological and industry-specific requirements.\n",
      "Our holistic Mode 1-2-3 strategy forms the backbone of these three business units to help enterprises navigate the digital age with ease. It is the core aspect of our ‘Digital Enterprise 4.0’ focus – aimed at offering holistic services to our clients to meet the technology needs of their present while readying them to be future-ready.\n",
      "The company’s DNA of grassroots innovation, its ingrained culture of co-innovation, and its tradition of going far beyond what is expected, to create customer value, clearly differentiates it and gives it a distinct advantage in creating value for businesses in the digital and connected world.\n",
      "3.9\n",
      "#15 Best Mega Company - 2021\n",
      "Public\n",
      "Mumbai,Maharashtra + 1051 more\n",
      "29 years old\n",
      "1 Lakh+ Employees (India)\n",
      "Axis Bank is the third largest private sector bank in India. The Bank offers the entire spectrum of financial services to customer segments covering Large and Mid-Corporates, MSME, Agriculture and Retail Businesses.\n",
      "\n",
      "The Bank has a large footprint of 4,050 domestic branches (including extension counters) with 11,801 ATMs & 4,917 cash recyclers spread across the country as on 31st March, 2019. The overseas operations of the Bank are spread over nine international offices with branches at Singapore, Hong Kong, Dubai (at the DIFC), Colombo and Shanghai; representative offices at Dhaka, Dubai, Abu Dhabi and an overseas subsidiary at London, UK. The international offices focus on corporate lending, trade finance, syndication, investment banking and liability businesses.\n",
      "4.2\n",
      "#1 Best Mega Company - 2021\n",
      "Public\n",
      "Seattle,Washington + 355 more\n",
      "28 years old\n",
      "1 Lakh+ Employees (India)\n",
      "Amazon is guided by four principles: customer obsession rather than competitor focus, passion for invention, commitment to operational excellence, and long-term thinking. \n",
      "\n",
      "We are driven by the excitement of building technologies, inventing products, and providing services that change lives. We embrace new ways of doing things, make decisions quickly, and are not afraid to fail. We have the scope and capabilities of a large company and the spirit and heart of a small one. \n",
      "\n",
      "Together, Amazonians research and develop new technologies from Amazon Web Services to Alexa on behalf of our customers: shoppers, sellers, content creators, and developers around the world. \n",
      "\n",
      "Our mission is to be Earth's most customer-centric company. Our actions, goals, projects, programs, and inventions begin and end with the customer's top of mind. \n",
      "\n",
      "You'll also hear us say that at Amazon, it's always \"Day 1.\"​ What do we mean? That our approach remains the same as it was on Amazon's very first day - to make smart, fast decisions, stay nimble, invent, and focus on delighting our customers.\n",
      "4.2\n",
      "#5 Best Mega Company - 2021\n",
      "Public\n",
      "Armonk,New York + 116 more\n",
      "111 years old\n",
      "1 Lakh+ Employees (India)\n",
      "IBMers believe in progress—that the application of intelligence, reason and science can improve business, society and the human condition\n",
      "\n",
      "IBM has developed a thoughtful, comprehensive approach to corporate citizenship that we believe aligns with IBM’s values and maximised the impact we can make as a global enterprise. We focus on specific societal issues, including the environment, community economic development, education and skills, public health, literacy, language and culture.\n",
      "\n",
      "The mission of India CSR is to foster life-long learning opportunities across India through streamlined initiatives that cut pathways across education [access], skills/employability [inclusion], and employment [equity and quality].\n",
      "\n",
      "IBM’s greatest asset is the IBMer. We believe our strength lies in the diversity of our employees. IBM encourages creative pursuits and passions outside of work, because when IBMers can explore their curiosity, it gives all of us a new outlook on the world and its possibilities for emerging tech. Together, IBM can drive progress through meaningful innovation and action.\n",
      "\n",
      "The new generation of hybrid cloud enables you to build once, deploy anywhere and manage it all from a single pane of glass. So your business can adapt and transform like never before.\n",
      "4.1\n",
      "#4 Best Mega Company - 2021\n",
      "Public\n",
      "Fremont,California + 68 more\n",
      "39 years old\n",
      "10k-50k Employees (India)\n",
      "Concentrix is a technology-enabled global business services company specializing in customer engagement and improving business performance. We partner with ambitious, progressive executives around the world to future-proof their business and stay ahead of the competition and customer expectations.It’s all about tapping into sentiment and building an emotional connection that keeps customers and staff fanatical about your brand. That’s where we come in—we create exceptional customer engagement, accelerate digital transformation, and deliver actionable CX insights.\n",
      "4.1\n",
      "Public\n",
      "Mumbai,Maharashtra + 518 more\n",
      "84 years old\n",
      "10k-50k Employees (India)\n",
      "Larsen & Toubro is an Indian multinational engaged in EPC Projects, Hi-Tech Manufacturing and Services. It operates in over 50 countries worldwide. A strong, customer-focused approach and the constant quest for top-class quality have enabled L&T to attain and sustain leadership in its major lines of business for over eight decades.\n",
      "\n",
      "We are engaged in core, high impact sectors of the economy and our integrated capabilities span the entire spectrum of ‘design to delivery’.\n",
      "\n",
      "Every aspect of L&T's businesses is characterised by professionalism and high standards of corporate governance. Sustainability is embedded into our long-term strategy for growth.\n",
      "\n",
      "The Company’s manufacturing footprint extends across eight countries in addition to India. L&T has several international offices and a supply chain that extends around the globe.\n",
      "4.0\n",
      "Public\n",
      "Navi Mumbai,Maharashtra + 950 more\n",
      "15 years old\n",
      "50k-1 Lakh Employees (India)\n",
      "Jio is a young and dynamic organization with a mission to digitally transform India. We believe in making dreams a reality by bringing out the creativity and innovation in our employees. We have a host of initiatives through which we care for our employees throughout their life at Jio. \n",
      "\n",
      "Given ahead are our philosophies behind building a working environment that supports our employees in achieving the impossible every day.\n",
      "4.2\n",
      "Public\n",
      "Gandhinagar,Gujrat + 561 more\n",
      "4 years old\n",
      "10k-50k Employees (India)\n",
      "Vodafone Idea Limited is an Aditya Birla Group and Vodafone Group partnership. It is India’s leading telecom service provider. The Company provides pan India Voice and Data services across 2G, 3G and 4G platform. With the large spectrum portfolio to support the growing demand for data and voice, the company is committed to deliver delightful customer experiences and contribute towards creating a truly ‘Digital India’ by enabling millions of citizens to connect and build a better tomorrow. The Company is developing infrastructure to introduce newer and smarter technologies, making both retail and enterprise customers future ready with innovative offerings, conveniently accessible through an ecosystem of digital channels as well as extensive on-ground presence. The Company is listed on National Stock Exchange (NSE) and Bombay Stock Exchange (BSE) in India.\n",
      "4.0\n",
      "#1 Best Mega Financial Services Company - 2021\n",
      "Private\n",
      "Ahmedabad,Gujrat + 750 more\n",
      "15 years old\n",
      "1 Lakh+ Employees (India)\n",
      "HDB Financial Services (HDBFS) is a leading Non-Banking Financial Company (NBFC) that caters to the growing needs of an Aspirational India, serving both Individual & Business Clients.\n",
      "\n",
      "Incorporated in 2007, we are a well-established business with strong capitalization. HDBFS is accredited with CARE AAA & CRISIL AAA ratings for its long-term debt & Bank facilities and an A1+ rating for its short-term debt & commercial papers, making it a strong and reliable financial institution.\n",
      "\n",
      "HDBFS maintains a strong commitment to ethical conduct. Transparency is ingrained in the structure of our Code of Ethics and our compliance policies to ensure that the highest standards of professional conduct are consistently reinforced and embedded in every corner of the organisation.\n",
      "3.6\n",
      "Private\n",
      "Paris + 117 more\n",
      "44 years old\n",
      "50k-1 Lakh Employees (India)\n",
      "Teleperformance is the agile business services partner that companies need in this digital world.\n",
      "For over 40 years, Teleperformance has been connecting customers with the world’s most successful companies. It is the global leader in customer experience outsourcing management and the trusted provider of digitally integrated business services.\n",
      "At Teleperformance, we combine human touch and high technology to deliver extraordinary customer experiences. While technology creates new and agile ways of working, our interaction experts remain committed to creating unique connections through empathy, adaptive communication skills, and more importantly, a passion to make it happen.\n",
      "3.9\n",
      "Public\n",
      "Mumbai,Maharashtra + 469 more\n",
      "19 years old\n",
      "50k-1 Lakh Employees (India)\n",
      "In February 2003, Kotak Mahindra Finance Ltd. (KMFL), the Group's flagship company, received banking license from the Reserve Bank of India (RBI), becoming the first non-banking finance company in India to convert into a bank - Kotak Mahindra Bank Ltd.\n",
      "Effective April 1, 2015, ING Vysya Bank Ltd. merged with Kotak Mahindra Bank Ltd. \n",
      "The Bank has four Strategic Business Units – Consumer Banking, Corporate Banking, Commercial Banking and Treasury, which cater to retail and corporate customers across urban and rural India.\n",
      "\n",
      "The Group offers a wide range of financial services that encompass every sphere of life. From commercial banking, to stock broking, mutual funds, life insurance and investment banking, the Group caters to the diverse financial needs of individuals and the corporate sector. The Group has a wide distribution network through branches and franchisees across India, and international offices in London, New York, California, Dubai, Abu Dhabi, Bahrain, Mauritius and Singapore.\n",
      "4.1\n",
      "Public\n",
      "Gurgaon/Gurugram,Haryana + 495 more\n",
      "27 years old\n",
      "10k-50k Employees (India)\n",
      "Bharti Airtel Limited is a leading global telecommunications company with operations in 18 countries across Asia and Africa. Headquartered in New Delhi, India, the company ranks amongst the top 3 mobile service providers globally in terms of subscribers. In India, the company's product offerings include 2G, 3G and 4G wireless services, mobile commerce, fixed line services, high speed home broadband, DTH, enterprise services including national & international long distance services to carriers. In the rest of the geographies, it offers 2G, 3G, 4G wireless services and mobile commerce. Bharti Airtel had over 403 million customers across its operations at the end of March 2019.\n",
      "4.1\n",
      "#6 Best Mega Company - 2021\n",
      "Public\n",
      "Navi Mumbai,Maharashtra + 461 more\n",
      "49 years old\n",
      "1 Lakh+ Employees (India)\n",
      "RIL is India’s largest private sector company, with a consolidated turnover of Rs.659,205 crore ($87.1 billion), cash profit of Rs.71,446 crores ($9.4 billion), and net profit of Rs39,880 crore ($5.3 billion) for the year ended March 31, 2020.\n",
      "RIL’s activities span hydrocarbon exploration and production, petroleum refining and marketing, petrochemicals, retail and digital services. RIL is the top-most ranked company from India to feature in Fortune’s Global 500 list of ‘World’s Largest Companies’ – currently ranking 96th. The company stands 58th in the ‘Forbes Global 2000’ rankings for 2020 – top-most among Indian companies. RIL has also featured in Forbes' list of \"World's Best Employers 2020” and has ranked 81st. It ranks 10th among LinkedIn’s ‘The Best Companies to Work for In India’ (2019).  RIL is also a GPTWTM Certified organisation and features as a part of the GPTW “Best Workplaces in Manufacturing 2021” list.\n",
      "4.1\n",
      "Private\n",
      "New York,New York + 132 more\n",
      "177 years old\n",
      "50k-1 Lakh Employees (India)\n",
      "Deloitte drives progress. Our firms around the world help clients become leaders wherever they choose to compete. Deloitte invests in outstanding people of diverse talents and backgrounds and empowers them to achieve more than they could elsewhere. Our work combines advice with action and integrity. We believe that when our clients and society are stronger, so are we. \n",
      "\n",
      "Deloitte refers to one or more of Deloitte Touche Tohmatsu Limited (“DTTL”), its global network of member firms, and their related entities. DTTL (also referred to as “Deloitte Global”) and each of its member firms are legally separate and independent entities. DTTL does not provide services to clients.\n",
      "4.0\n",
      "#2 Best Mega Company - 2021\n",
      "Public\n",
      "Pune,Maharashtra + 383 more\n",
      "77 years old\n",
      "10k-50k Employees (India)\n",
      "Tata Motors Group (Tata Motors) is a $34 billion organization. It is a leading global automobile manufacturing company. Its diverse portfolio includes an extensive range of cars, sports utility vehicles, trucks, buses, and defence vehicles. \n",
      "\n",
      "Tata Motors is one of India's largest OEMs offering an extensive range of integrated, smart, and e-mobility solutions. Part of the USD110 billion Tata group founded by Jamsetji Tata in 1868, Tata Motors is among the world’s leading manufacturers of automobiles. \n",
      "\n",
      "We believe in ‘Connecting aspirations’, by offering innovative mobility solutions that are in line with customers' aspirations. We are India's largest automobile manufacturer, and we continue to take the lead in shaping the Indian commercial vehicle landscape, with the introduction of leading-edge powertrains and electric solutions packaged for power performances and user comfort at the lowest life-cycle costs. \n",
      "\n",
      "Our new passenger cars and utility vehicles are based on Impact Design and offer a superior blend of performance, driveability, and connectivity.\n",
      "\n",
      "Our focus on connecting aspirations and our pipeline of tech-enabled products keeps us at the forefront of the market. We have identified six key mobility drivers that will lead us into the future – modular architecture, complexity reduction in manufacturing, connected & autonomous vehicles, clean drivelines, shared mobility, and low total cost of ownership. \n",
      "\n",
      "Our sub-brand TAMO is an incubating centre of innovation that will spark new mobility solutions through new technologies, business models, and partnerships.\n",
      "4.1\n",
      "Private\n",
      "Navi Mumbai,Maharashtra + 594 more\n",
      "16 years old\n",
      "1 Lakh+ Employees (India)\n",
      "Reliance Retail is the retail initiative of Reliance Industries Limited and is central to the group’s consumer facing businesses. Reliance Retail has been at the forefront of bringing about Organized Retail revolution in India.\n",
      "Reliance Retail’s operating model unleashes the aspirational energy of the new, resurgent India. Reliance Retail’s guiding philosophy rests on the tenets of enabling inclusion, growth and building sustainable societal value for millions of Indians.\n",
      "In a short period, it has forged strong and enduring bonds with millions of consumers by providing them unlimited choice, outstanding value proposition, superior quality and unmatched shopping experience across all its stores.\n",
      "Reliance Retail’s growth over the years has triggered a large socio-economic transformation on an extraordinary scale in India.\n",
      "Reliance Retail has been ranked as the fastest growing retailer in the world. It is ranked 53rd in the list of Top Global Retailers and is the only Indian Retailer to feature in the Top 100. It is the largest and the most profitable retailer in India with the widest reach.\n",
      "Reliance Retail has more than 150 million loyal customers buying across all its formats. It recorded more than 640 million footfalls across all its stores in FY20, a scale unmatched by any other retailer in India. With over 100,000 transactions per hour, Reliance Retail operates at a scale unparalleled in the Indian retail industry and continues to enrich the quality of lives of millions of Indians every day. Reliance Retail has adopted a multi-prong strategy and operates a wide array of store formats which cater to planned shopping needs as well as daily or occasional needs of the customers across major consumption baskets of Grocery, Consumer Electronics and Fashion & Lifestyle.\n",
      "In Grocery consumption basket, Reliance Retail operates Reliance Fresh, Shree Kannan Departmental stores, SMART and Smart Point store formats focused on food, fresh produce, bakery, dairy products, home and personal care products, as well as general merchandise items.\n",
      "In Consumer Electronics consumption basket, Reliance Retail operates Reliance Digital and MyJio Store formats offering a wide range of consumer electronics, home appliances, computing and mobility products, latest gadgets and accessories. These stores are backed by ResQ, a full-fledged service organisation and India’s only ISO 9001 certified electronics service brand.\n",
      "In Fashion and Lifestyle consumption basket, Reliance Retail operates a portfolio of formats that serves customers across value, mid, premium and luxury segments. Reliance Retail operates Trends, Trends Woman, Trends Man, Trends Footwear, Project Eve, Reliance Jewels, Hamleys formats and a portfolio of more than 40 marquee international brands such as Armani, Burberry, Diesel, GAS, Marks & Spencer, Superdry, Brooks Brothers, Steve Madden and more. Reliance Retail has a strong presence in digital commerce channels through AJIO.com, a curated fashion & lifestyle store bringing best of national and international brands to customers doorsteps and Jiomart, India's largest hyperlocal retail solution that leverages the wide network of Reliance Retail's grocery stores and well-established supply chain infrastructure.\n",
      "Reliance Retail reported a turnover of Rs. 1,57,629 crore (US$ 21.6 billion) for the financial year 2020-21. As on 31st Mar 2021, Reliance Retail operated 12,711 stores across 7,000+ cities with a retail area of over 33.8 million sft.\n",
      "Reliance Retail Ventures Limited, a subsidiary of Reliance Industries Limited is the holding company of Reliance Retail Limited which operates the retail business.\n",
      "3.7\n",
      "Private\n",
      "Mumbai,Maharashtra + 22 more\n",
      "26 years old\n",
      "10k-50k Employees (India)\n",
      "WNS Limited is a leading Business Process Management (BPM) company. WNS combines deep industry knowledge with technology, analytics, and process expertise to co-create innovative, digitally-led transformational solutions with over 375 clients across various industries. \n",
      "WNS delivers an entire spectrum of BPM solutions including industry-specific offerings, customer experience services, finance and accounting, human resources, procurement, and research and analytics to re-imagine the digital future of businesses. As of December 31, 2021, WNS had 49,610 professionals across 55 delivery centers worldwide including facilities in China, Costa Rica, India, the Philippines, Poland, Romania, South Africa, Spain, Sri Lanka, Turkey, the United Kingdom, and the United States.\n",
      "3.9\n",
      "#14 Best Large Company - 2021\n",
      "Public\n",
      "Mumbai,Maharashtra + 401 more\n",
      "77 years old\n",
      "1 Lakh+ Employees (India)\n",
      "A federation of companies, bound by one purpose – to Rise. Inspired by this spirit, our legacy, and values, our goal to always positively impact our partners, stakeholders, communities, and the world at large, remains unshakeable.\n",
      "\n",
      "What began as a steel-trading venture seven decades ago, steadily turned into a global brand, spanning nations and industries. This is a story with an upward curve, narrating how an Indian company paved its way to become a global powerhouse. We have come a long way since 1945 and as we accelerate into the 21st century, we aim at achieving even more.\n",
      "3.8\n",
      "Public\n",
      "Gurgaon/Gurugram,Haryana + 550 more\n",
      "28 years old\n",
      "10k-50k Employees (India)\n",
      "IndusInd Bank is a Mumbai based scheduled private bank founded in Mumbai in April 1994. This bank offers a wide range of banking as well as financial products and services to the customers and is headquartered in Mumbai, Maharashtra. The bank has over 745 branches with a total network of over 1635 operating ATMs. It has two representative offices outside India in London and Dubai respectively.\n",
      "IndusInd Bank stands tall today as one of the reputed banking brands in the country. The bank has been continuously investing in various advertising & marketing programs to enhance the brand image & recall. In an endeavor to emerge as best-in-class brand, IndusInd Bank has made 'Responsive Innovation' as a central theme of its brand building program. The Bank has combined responsiveness with innovation to launch a wide range of banking products and services which are unique, convenient and very relevant to Indian consumer.\n",
      "4.2\n",
      "#1 Best Large Internet Company - 2021\n",
      "Public\n",
      "Bangalore,Karnataka + 417 more\n",
      "15 years old\n",
      "50k-1 Lakh Employees (India)\n",
      "The Flipkart Group is one of India’s leading digital commerce entities and includes group companies Flipkart, Myntra, and Jabong. Launched in 2007, Flipkart has enabled millions of consumers, sellers, merchants and small businesses to be a part of India’s e-commerce revolution. With a registered customer base of over 100 million, offering over 80 million products across 80+ categories, Flipkart is known for pioneering services such as Cash on Delivery, No Cost EMI and easy returns – customer-centric innovations that have made online shopping more accessible and affordable for millions of Indians. Together with Myntra and Jabong, which hold prominent positions in the online fashion market, the Flipkart Group has steered the transformation of commerce in India through technology.\n",
      "Helping over\n",
      "\t\t\t\t\t\t\t76 Lakh job\n",
      "\t\t\t\t\t\t\tseekers every month in choosing their right fit company\n",
      "Reviews\n",
      "Salaries\n",
      "Interviews\n",
      "Users/Month\n",
      "About Company\n",
      "Made with ❤️ in India. Trademarks belong to their respective owners. All\n",
      "\t\t\t\t\trights reserved © 2022 Info Edge (India) Ltd.\n"
     ]
    }
   ],
   "source": [
    "for i in soup.find_all('p'):\n",
    "  print(i.text.strip())"
   ]
  },
  {
   "cell_type": "markdown",
   "id": "c8773661",
   "metadata": {},
   "source": [
    "# TO FIND OUT THE RATINGS"
   ]
  },
  {
   "cell_type": "code",
   "execution_count": 9,
   "id": "283309f3",
   "metadata": {},
   "outputs": [
    {
     "name": "stdout",
     "output_type": "stream",
     "text": [
      "3.9\n",
      "4.2\n",
      "4.0\n",
      "4.0\n",
      "4.0\n",
      "3.9\n",
      "3.9\n",
      "3.9\n",
      "3.8\n",
      "4.0\n",
      "3.9\n",
      "3.9\n",
      "4.2\n",
      "4.2\n",
      "4.1\n",
      "4.1\n",
      "4.0\n",
      "4.2\n",
      "4.0\n",
      "3.6\n",
      "3.9\n",
      "4.1\n",
      "4.1\n",
      "4.1\n",
      "4.0\n",
      "4.1\n",
      "3.7\n",
      "3.9\n",
      "3.8\n",
      "4.2\n"
     ]
    }
   ],
   "source": [
    "for i in soup.find_all('p',class_='rating'):\n",
    "    print(i.text.strip())"
   ]
  },
  {
   "cell_type": "code",
   "execution_count": 10,
   "id": "1eb5c9f5",
   "metadata": {},
   "outputs": [
    {
     "data": {
      "text/plain": [
       "30"
      ]
     },
     "execution_count": 10,
     "metadata": {},
     "output_type": "execute_result"
    }
   ],
   "source": [
    "len(soup.find_all('p',class_='rating'))"
   ]
  },
  {
   "cell_type": "markdown",
   "id": "b87ba8b6",
   "metadata": {},
   "source": [
    "# TO FIND OUT THE NUMBER OF REVIEWS"
   ]
  },
  {
   "cell_type": "code",
   "execution_count": 11,
   "id": "1fcf45d7",
   "metadata": {},
   "outputs": [
    {
     "name": "stdout",
     "output_type": "stream",
     "text": [
      "(45.9k Reviews)\n",
      "(30.8k Reviews)\n",
      "(27.8k Reviews)\n",
      "(33.3k Reviews)\n",
      "(37.5k Reviews)\n",
      "(26.7k Reviews)\n",
      "(26.6k Reviews)\n",
      "(22.6k Reviews)\n",
      "(20.6k Reviews)\n",
      "(20k Reviews)\n",
      "(17.2k Reviews)\n",
      "(18.1k Reviews)\n",
      "(16.7k Reviews)\n",
      "(20.6k Reviews)\n",
      "(14.7k Reviews)\n",
      "(23.8k Reviews)\n",
      "(14.2k Reviews)\n",
      "(13.6k Reviews)\n",
      "(12.7k Reviews)\n",
      "(13.7k Reviews)\n",
      "(13.1k Reviews)\n",
      "(12.4k Reviews)\n",
      "(40.7k Reviews)\n",
      "(9.8k Reviews)\n",
      "(11.9k Reviews)\n",
      "(14.2k Reviews)\n",
      "(6.7k Reviews)\n",
      "(37.6k Reviews)\n",
      "(6.6k Reviews)\n",
      "(10.6k Reviews)\n"
     ]
    }
   ],
   "source": [
    "for i in soup.find_all('a',class_='review-count'):\n",
    "   print(i.text.strip())"
   ]
  },
  {
   "cell_type": "code",
   "execution_count": 12,
   "id": "621c1974",
   "metadata": {},
   "outputs": [
    {
     "data": {
      "text/plain": [
       "30"
      ]
     },
     "execution_count": 12,
     "metadata": {},
     "output_type": "execute_result"
    }
   ],
   "source": [
    "len(soup.find_all('a' , class_='review-count'))"
   ]
  },
  {
   "cell_type": "markdown",
   "id": "b053e0a0",
   "metadata": {},
   "source": [
    "# CONSIDERING THE WHOLE CONTAINER"
   ]
  },
  {
   "cell_type": "code",
   "execution_count": 13,
   "id": "42441b69",
   "metadata": {},
   "outputs": [],
   "source": [
    "company=soup.find_all('div',class_='company-content-wrapper')"
   ]
  },
  {
   "cell_type": "code",
   "execution_count": 14,
   "id": "0769fb53",
   "metadata": {},
   "outputs": [
    {
     "data": {
      "text/plain": [
       "30"
      ]
     },
     "execution_count": 14,
     "metadata": {},
     "output_type": "execute_result"
    }
   ],
   "source": [
    "len(company)"
   ]
  },
  {
   "cell_type": "code",
   "execution_count": 15,
   "id": "884ec625",
   "metadata": {},
   "outputs": [],
   "source": [
    "name=[]\n",
    "rating=[]\n",
    "reviews=[]\n",
    "ctype=[]\n",
    "hq=[]\n",
    "how_old=[]\n",
    "no_of_employee=[]\n",
    "\n",
    "for i in company:\n",
    "\n",
    "  name.append(i.find('h2').text.strip())\n",
    "  rating.append(i.find('p',class_='rating').text.strip())\n",
    "  reviews.append(i.find('a' , class_='review-count').text.strip())\n",
    "  ctype.append(i.find_all('p',class_='infoEntity')[0].text.strip())\n",
    "  hq.append(i.find_all('p',class_='infoEntity')[1].text.strip())\n",
    "  how_old.append(i.find_all('p',class_='infoEntity')[2].text.strip())\n",
    "  no_of_employee.append(i.find_all('p',class_='infoEntity')[3].text.strip())\n",
    "\n",
    "df=pd.DataFrame({'name':name,\n",
    "   'rating':rating,\n",
    "   'reviews':reviews,\n",
    "   'company_type':ctype,\n",
    "   'Head_Quarters':hq,\n",
    "   'Company_Age':how_old,\n",
    "   'No_of_Employee':no_of_employee,\n",
    "   })\n",
    "  \n"
   ]
  },
  {
   "cell_type": "code",
   "execution_count": 16,
   "id": "6cb17292",
   "metadata": {},
   "outputs": [
    {
     "data": {
      "text/plain": [
       "['TCS',\n",
       " 'Accenture',\n",
       " 'Cognizant',\n",
       " 'ICICI Bank',\n",
       " 'HDFC Bank',\n",
       " 'Wipro',\n",
       " 'Infosys',\n",
       " 'Capgemini',\n",
       " 'Tech Mahindra',\n",
       " 'Genpact',\n",
       " 'HCL Technologies',\n",
       " 'Axis Bank',\n",
       " 'Amazon',\n",
       " 'IBM',\n",
       " 'Concentrix Corpo...',\n",
       " 'Larsen & Toubro ...',\n",
       " 'Reliance jio',\n",
       " 'Vodafone Idea',\n",
       " 'HDB Financial Se...',\n",
       " 'Teleperformance',\n",
       " 'Kotak Mahindra B...',\n",
       " 'Bharti Airtel',\n",
       " 'Reliance Industr...',\n",
       " 'Deloitte',\n",
       " 'Tata Motors',\n",
       " 'Reliance Retail',\n",
       " 'WNS',\n",
       " 'Mahindra & Mahin...',\n",
       " 'IndusInd Bank',\n",
       " 'Flipkart']"
      ]
     },
     "execution_count": 16,
     "metadata": {},
     "output_type": "execute_result"
    }
   ],
   "source": [
    "name"
   ]
  },
  {
   "cell_type": "code",
   "execution_count": 17,
   "id": "f7759ae3",
   "metadata": {},
   "outputs": [
    {
     "data": {
      "text/plain": [
       "['Mumbai,Maharashtra + 267 more',\n",
       " 'Dublin + 142 more',\n",
       " 'Teaneck. New Jersey. + 94 more',\n",
       " 'Mumbai,Maharashtra + 1032 more',\n",
       " 'Mumbai,Maharashtra + 1189 more',\n",
       " 'Bangalore/Bengaluru,Karnataka + 227 more',\n",
       " 'Bengaluru/Bangalore,Karnataka + 122 more',\n",
       " 'Paris + 75 more',\n",
       " 'Pune,Maharashtra + 205 more',\n",
       " 'New York,New York + 66 more',\n",
       " 'Noida,Uttar Pradesh + 136 more',\n",
       " 'Mumbai,Maharashtra + 1051 more',\n",
       " 'Seattle,Washington + 355 more',\n",
       " 'Armonk,New York + 116 more',\n",
       " 'Fremont,California + 68 more',\n",
       " 'Mumbai,Maharashtra + 518 more',\n",
       " 'Navi Mumbai,Maharashtra + 950 more',\n",
       " 'Gandhinagar,Gujrat + 561 more',\n",
       " 'Ahmedabad,Gujrat + 750 more',\n",
       " 'Paris + 117 more',\n",
       " 'Mumbai,Maharashtra + 469 more',\n",
       " 'Gurgaon/Gurugram,Haryana + 495 more',\n",
       " 'Navi Mumbai,Maharashtra + 461 more',\n",
       " 'New York,New York + 132 more',\n",
       " 'Pune,Maharashtra + 383 more',\n",
       " 'Navi Mumbai,Maharashtra + 594 more',\n",
       " 'Mumbai,Maharashtra + 22 more',\n",
       " 'Mumbai,Maharashtra + 401 more',\n",
       " 'Gurgaon/Gurugram,Haryana + 550 more',\n",
       " 'Bangalore,Karnataka + 417 more']"
      ]
     },
     "execution_count": 17,
     "metadata": {},
     "output_type": "execute_result"
    }
   ],
   "source": [
    "hq"
   ]
  },
  {
   "cell_type": "code",
   "execution_count": 18,
   "id": "6dd11c94",
   "metadata": {},
   "outputs": [
    {
     "data": {
      "text/plain": [
       "['1 Lakh+ Employees (India)',\n",
       " '1 Lakh+ Employees (India)',\n",
       " '1 Lakh+ Employees (India)',\n",
       " '1 Lakh+ Employees (India)',\n",
       " '1 Lakh+ Employees (India)',\n",
       " '1 Lakh+ Employees (India)',\n",
       " '1 Lakh+ Employees (India)',\n",
       " '1 Lakh+ Employees (India)',\n",
       " '50k-1 Lakh Employees (India)',\n",
       " '50k-1 Lakh Employees (India)',\n",
       " '1 Lakh+ Employees (India)',\n",
       " '1 Lakh+ Employees (India)',\n",
       " '1 Lakh+ Employees (India)',\n",
       " '1 Lakh+ Employees (India)',\n",
       " '10k-50k Employees (India)',\n",
       " '10k-50k Employees (India)',\n",
       " '50k-1 Lakh Employees (India)',\n",
       " '10k-50k Employees (India)',\n",
       " '1 Lakh+ Employees (India)',\n",
       " '50k-1 Lakh Employees (India)',\n",
       " '50k-1 Lakh Employees (India)',\n",
       " '10k-50k Employees (India)',\n",
       " '1 Lakh+ Employees (India)',\n",
       " '50k-1 Lakh Employees (India)',\n",
       " '10k-50k Employees (India)',\n",
       " '1 Lakh+ Employees (India)',\n",
       " '10k-50k Employees (India)',\n",
       " '1 Lakh+ Employees (India)',\n",
       " '10k-50k Employees (India)',\n",
       " '50k-1 Lakh Employees (India)']"
      ]
     },
     "execution_count": 18,
     "metadata": {},
     "output_type": "execute_result"
    }
   ],
   "source": [
    "no_of_employee"
   ]
  },
  {
   "cell_type": "markdown",
   "id": "8fcbf6fd",
   "metadata": {},
   "source": [
    "# creating dataframe for all the pages"
   ]
  },
  {
   "cell_type": "code",
   "execution_count": 20,
   "id": "f4c700f5",
   "metadata": {},
   "outputs": [
    {
     "name": "stderr",
     "output_type": "stream",
     "text": [
      "C:\\Users\\dell\\AppData\\Local\\Temp\\ipykernel_7080\\2610792380.py:63: FutureWarning: The frame.append method is deprecated and will be removed from pandas in a future version. Use pandas.concat instead.\n",
      "  final=final.append(df,ignore_index=True)\n"
     ]
    }
   ],
   "source": [
    "final=pd.DataFrame()\n",
    "for j in range(1,21):\n",
    "  webpage=requests.get('https://www.ambitionbox.com/list-of-companies?page={}'.format(j)).text\n",
    "  soup=BeautifulSoup(webpage,'lxml')\n",
    "  company=soup.find_all('div',class_='company-content-wrapper')\n",
    "  name=[]\n",
    "  rating=[]\n",
    "  reviews=[]\n",
    "  ctype=[]\n",
    "  hq=[]\n",
    "  how_old=[]\n",
    "  no_of_employee=[]\n",
    "\n",
    "  for i in company:\n",
    "\n",
    "    try:\n",
    "       name.append(i.find('h2').text.strip())\n",
    "    except:\n",
    "       name.append(np.nan)\n",
    "\n",
    "    try:\n",
    "       rating.append(i.find('p',class_='rating').text.strip())\n",
    "    except:\n",
    "       rating.append(np.nan)\n",
    "   \n",
    "    try:\n",
    "\n",
    "      reviews.append(i.find('a' , class_='review-count').text.strip())\n",
    "    except:\n",
    "      reviews.append(np.nan)\n",
    "    \n",
    "    try:\n",
    "\n",
    "      ctype.append(i.find_all('p',class_='infoEntity')[0].text.strip())\n",
    "    except:\n",
    "      ctype.append(np.nan)\n",
    "    try:\n",
    "\n",
    "      hq.append(i.find_all('p',class_='infoEntity')[1].text.strip())\n",
    "    except:\n",
    "      hq.append(np.nan)\n",
    "    \n",
    "    try:\n",
    "\n",
    "      how_old.append(i.find_all('p',class_='infoEntity')[2].text.strip())\n",
    "    except:\n",
    "      how_old.append(np.nan)\n",
    "    try:\n",
    "      no_of_employee.append(i.find_all('p',class_='infoEntity')[3].text.strip())\n",
    "    except:\n",
    "      no_of_employee.append(np.nan)\n",
    "    \n",
    "\n",
    "  df=pd.DataFrame({'name':name,\n",
    "    'rating':rating,\n",
    "    'reviews':reviews,\n",
    "    'company_type':ctype,\n",
    "    'Head_Quarters':hq,\n",
    "    'Company_Age':how_old,\n",
    "    'No_of_Employee':no_of_employee,\n",
    "    })\n",
    "  \n",
    "  final=final.append(df,ignore_index=True)"
   ]
  },
  {
   "cell_type": "code",
   "execution_count": 21,
   "id": "e0ea9e7f",
   "metadata": {},
   "outputs": [
    {
     "data": {
      "text/html": [
       "<div>\n",
       "<style scoped>\n",
       "    .dataframe tbody tr th:only-of-type {\n",
       "        vertical-align: middle;\n",
       "    }\n",
       "\n",
       "    .dataframe tbody tr th {\n",
       "        vertical-align: top;\n",
       "    }\n",
       "\n",
       "    .dataframe thead th {\n",
       "        text-align: right;\n",
       "    }\n",
       "</style>\n",
       "<table border=\"1\" class=\"dataframe\">\n",
       "  <thead>\n",
       "    <tr style=\"text-align: right;\">\n",
       "      <th></th>\n",
       "      <th>name</th>\n",
       "      <th>rating</th>\n",
       "      <th>reviews</th>\n",
       "      <th>company_type</th>\n",
       "      <th>Head_Quarters</th>\n",
       "      <th>Company_Age</th>\n",
       "      <th>No_of_Employee</th>\n",
       "    </tr>\n",
       "  </thead>\n",
       "  <tbody>\n",
       "    <tr>\n",
       "      <th>595</th>\n",
       "      <td>Oracle Financial...</td>\n",
       "      <td>3.8</td>\n",
       "      <td>(790 Reviews)</td>\n",
       "      <td>Public</td>\n",
       "      <td>Mumbai + 13 more</td>\n",
       "      <td>32 years old</td>\n",
       "      <td>50k-1 Lakh Employees (India)</td>\n",
       "    </tr>\n",
       "    <tr>\n",
       "      <th>596</th>\n",
       "      <td>SBICAP Securitie...</td>\n",
       "      <td>3.7</td>\n",
       "      <td>(787 Reviews)</td>\n",
       "      <td>Government</td>\n",
       "      <td>Mumbai,Maharashtra + 144 more</td>\n",
       "      <td>16 years old</td>\n",
       "      <td>5k-10k Employees (India)</td>\n",
       "    </tr>\n",
       "    <tr>\n",
       "      <th>597</th>\n",
       "      <td>IDC Technologies</td>\n",
       "      <td>3.4</td>\n",
       "      <td>(787 Reviews)</td>\n",
       "      <td>Private</td>\n",
       "      <td>Milpitas,California + 48 more</td>\n",
       "      <td>19 years old</td>\n",
       "      <td>1k-5k Employees (India)</td>\n",
       "    </tr>\n",
       "    <tr>\n",
       "      <th>598</th>\n",
       "      <td>Sharekhan</td>\n",
       "      <td>4.1</td>\n",
       "      <td>(787 Reviews)</td>\n",
       "      <td>Public</td>\n",
       "      <td>Mumbai,Maharashtra + 104 more</td>\n",
       "      <td>22 years old</td>\n",
       "      <td>1k-5k Employees (India)</td>\n",
       "    </tr>\n",
       "    <tr>\n",
       "      <th>599</th>\n",
       "      <td>Amity University</td>\n",
       "      <td>3.8</td>\n",
       "      <td>(787 Reviews)</td>\n",
       "      <td>Private</td>\n",
       "      <td>Noida,Uttar Pradesh + 67 more</td>\n",
       "      <td>17 years old</td>\n",
       "      <td>1k-5k Employees (India)</td>\n",
       "    </tr>\n",
       "  </tbody>\n",
       "</table>\n",
       "</div>"
      ],
      "text/plain": [
       "                    name rating        reviews company_type  \\\n",
       "595  Oracle Financial...    3.8  (790 Reviews)       Public   \n",
       "596  SBICAP Securitie...    3.7  (787 Reviews)   Government   \n",
       "597     IDC Technologies    3.4  (787 Reviews)      Private   \n",
       "598            Sharekhan    4.1  (787 Reviews)       Public   \n",
       "599     Amity University    3.8  (787 Reviews)      Private   \n",
       "\n",
       "                     Head_Quarters   Company_Age                No_of_Employee  \n",
       "595               Mumbai + 13 more  32 years old  50k-1 Lakh Employees (India)  \n",
       "596  Mumbai,Maharashtra + 144 more  16 years old      5k-10k Employees (India)  \n",
       "597  Milpitas,California + 48 more  19 years old       1k-5k Employees (India)  \n",
       "598  Mumbai,Maharashtra + 104 more  22 years old       1k-5k Employees (India)  \n",
       "599  Noida,Uttar Pradesh + 67 more  17 years old       1k-5k Employees (India)  "
      ]
     },
     "execution_count": 21,
     "metadata": {},
     "output_type": "execute_result"
    }
   ],
   "source": [
    "final.tail()"
   ]
  },
  {
   "cell_type": "code",
   "execution_count": 22,
   "id": "113eff9d",
   "metadata": {},
   "outputs": [
    {
     "data": {
      "text/plain": [
       "(600, 7)"
      ]
     },
     "execution_count": 22,
     "metadata": {},
     "output_type": "execute_result"
    }
   ],
   "source": [
    "final.shape"
   ]
  },
  {
   "cell_type": "code",
   "execution_count": 23,
   "id": "1ea00835",
   "metadata": {},
   "outputs": [
    {
     "data": {
      "text/plain": [
       "name               0\n",
       "rating             0\n",
       "reviews            0\n",
       "company_type       0\n",
       "Head_Quarters      5\n",
       "Company_Age       10\n",
       "No_of_Employee    31\n",
       "dtype: int64"
      ]
     },
     "execution_count": 23,
     "metadata": {},
     "output_type": "execute_result"
    }
   ],
   "source": [
    "final.isnull().sum()"
   ]
  },
  {
   "cell_type": "code",
   "execution_count": null,
   "id": "9708a7fe",
   "metadata": {},
   "outputs": [],
   "source": []
  }
 ],
 "metadata": {
  "kernelspec": {
   "display_name": "Python 3 (ipykernel)",
   "language": "python",
   "name": "python3"
  },
  "language_info": {
   "codemirror_mode": {
    "name": "ipython",
    "version": 3
   },
   "file_extension": ".py",
   "mimetype": "text/x-python",
   "name": "python",
   "nbconvert_exporter": "python",
   "pygments_lexer": "ipython3",
   "version": "3.9.12"
  }
 },
 "nbformat": 4,
 "nbformat_minor": 5
}
