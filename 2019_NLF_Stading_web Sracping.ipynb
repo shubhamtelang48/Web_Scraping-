{
 "cells": [
  {
   "cell_type": "code",
   "execution_count": 1,
   "id": "dabcbfb2",
   "metadata": {},
   "outputs": [],
   "source": [
    "import requests\n",
    "from bs4 import BeautifulSoup\n",
    "import pandas as pd"
   ]
  },
  {
   "cell_type": "code",
   "execution_count": 2,
   "id": "5ad8a378",
   "metadata": {},
   "outputs": [],
   "source": [
    "url='https://www.nfl.com/standings/league/2019/reg'"
   ]
  },
  {
   "cell_type": "code",
   "execution_count": 3,
   "id": "fca75ec1",
   "metadata": {},
   "outputs": [],
   "source": [
    "page = requests.get(url)\n",
    "\n",
    "soup = BeautifulSoup(page.text, 'lxml')"
   ]
  },
  {
   "cell_type": "code",
   "execution_count": 4,
   "id": "1276b9e6",
   "metadata": {},
   "outputs": [],
   "source": [
    "table = soup.find('table', {'summary':'Standings - Detailed View'})\n"
   ]
  },
  {
   "cell_type": "code",
   "execution_count": 5,
   "id": "cb518b41",
   "metadata": {},
   "outputs": [
    {
     "data": {
      "text/plain": [
       "<table class=\"d3-o-table d3-o-table--row-striping d3-o-table--detailed d3-o-standings--detailed d3-o-table--sortable {sortlist: [[4,1]], sortinitialorder: 'desc'}\" data-require=\"modules/tableSortable\" summary=\"Standings - Detailed View\"><caption class=\"d3-o-table__caption\">Standings - Detailed View</caption><thead><tr><th aria-label=\"Division name\" scope=\"col\">NFL Team</th><th aria-label=\"WINS\" scope=\"col\">W</th><th aria-label=\"LOSSES\" scope=\"col\">L</th><th aria-label=\"TIES\" scope=\"col\">T</th><th aria-label=\"PCT\" scope=\"col\">PCT</th><th aria-label=\"PF\" scope=\"col\">PF</th><th aria-label=\"PA\" scope=\"col\">PA</th><th aria-label=\"NET PTS\" scope=\"col\">Net Pts</th><th aria-label=\"HOME\" scope=\"col\">Home</th><th aria-label=\"ROAD\" scope=\"col\">Road</th><th aria-label=\"DIV\" scope=\"col\">Div</th><th aria-label=\"PCT\" scope=\"col\">Pct</th><th aria-label=\"CONF\" scope=\"col\">Conf</th><th aria-label=\"PCT\" scope=\"col\">Pct</th><th aria-label=\"NON-CONF\" scope=\"col\">Non-Conf</th><th aria-label=\"STRK\" scope=\"col\">Strk</th><th aria-label=\"LAST 5\" scope=\"col\">Last 5</th></tr></thead><tbody><tr><td scope=\"row\" tabindex=\"0\"><a aria-label=\"Go to Cincinnati Bengals info page.\" class=\"d3-o-club-info\" href=\"/teams/cincinnati-bengals/\"><div class=\"d3-o-club-logo\"><picture><!--[if IE 9]><video style=\"display:none\"><![endif]--><source media=\"(min-width:1024px)\" srcset=\"https://static.www.nfl.com/t_q-best/league/api/clubs/logos/CIN\"><source media=\"(min-width:768px)\" srcset=\"https://static.www.nfl.com/t_q-best/league/api/clubs/logos/CIN\"><source srcset=\"https://static.www.nfl.com/t_q-best/league/api/clubs/logos/CIN\"><!--[if IE 9]></video><![endif]--><img class=\"img-responsive\" src=\"https://static.www.nfl.com/t_q-best/league/api/clubs/logos/CIN\"/></source></source></source></picture></div><div class=\"d3-o-club-fullname\">Cincinnati Bengals</div><div class=\"d3-o-club-shortname\">Bengals</div></a></td><td>2</td><td>14</td><td>0</td><td>0.125</td><td>279</td><td>420</td><td>-141</td><td class=\"sorter-tie\">2 - 6 - 0</td><td class=\"sorter-tie\">0 - 8 - 0</td><td class=\"sorter-tie\">1 - 5 - 0</td><td>0.167</td><td class=\"sorter-tie\">2 - 10 - 0</td><td>0.167</td><td class=\"sorter-tie\">0 - 4 - 0</td><td class=\"sorter-strike\">1W</td><td class=\"sorter-tie\">2 - 3 - 0</td></tr><tr><td scope=\"row\" tabindex=\"0\"><a aria-label=\"Go to Detroit Lions info page.\" class=\"d3-o-club-info\" href=\"/teams/detroit-lions/\"><div class=\"d3-o-club-logo\"><picture><!--[if IE 9]><video style=\"display:none\"><![endif]--><source media=\"(min-width:1024px)\" srcset=\"https://static.www.nfl.com/t_q-best/league/api/clubs/logos/DET\"><source media=\"(min-width:768px)\" srcset=\"https://static.www.nfl.com/t_q-best/league/api/clubs/logos/DET\"><source srcset=\"https://static.www.nfl.com/t_q-best/league/api/clubs/logos/DET\"><!--[if IE 9]></video><![endif]--><img class=\"img-responsive\" src=\"https://static.www.nfl.com/t_q-best/league/api/clubs/logos/DET\"/></source></source></source></picture></div><div class=\"d3-o-club-fullname\">Detroit Lions</div><div class=\"d3-o-club-shortname\">Lions</div></a></td><td>3</td><td>12</td><td>1</td><td>0.219</td><td>341</td><td>423</td><td>-82</td><td class=\"sorter-tie\">2 - 6 - 0</td><td class=\"sorter-tie\">1 - 6 - 1</td><td class=\"sorter-tie\">0 - 6 - 0</td><td>0.000</td><td class=\"sorter-tie\">2 - 9 - 1</td><td>0.208</td><td class=\"sorter-tie\">1 - 3 - 0</td><td class=\"sorter-strike\">9L</td><td class=\"sorter-tie\">0 - 5 - 0</td></tr><tr><td scope=\"row\" tabindex=\"0\"><a aria-label=\"Go to Washington Commanders info page.\" class=\"d3-o-club-info\" href=\"/teams/washington-commanders/\"><div class=\"d3-o-club-logo\"><picture><!--[if IE 9]><video style=\"display:none\"><![endif]--><source media=\"(min-width:1024px)\" srcset=\"https://static.www.nfl.com/t_q-best/league/api/clubs/logos/WAS\"><source media=\"(min-width:768px)\" srcset=\"https://static.www.nfl.com/t_q-best/league/api/clubs/logos/WAS\"><source srcset=\"https://static.www.nfl.com/t_q-best/league/api/clubs/logos/WAS\"><!--[if IE 9]></video><![endif]--><img class=\"img-responsive\" src=\"https://static.www.nfl.com/t_q-best/league/api/clubs/logos/WAS\"/></source></source></source></picture></div><div class=\"d3-o-club-fullname\">Washington Commanders</div><div class=\"d3-o-club-shortname\">Redskins</div></a></td><td>3</td><td>13</td><td>0</td><td>0.188</td><td>266</td><td>435</td><td>-169</td><td class=\"sorter-tie\">1 - 7 - 0</td><td class=\"sorter-tie\">2 - 6 - 0</td><td class=\"sorter-tie\">0 - 6 - 0</td><td>0.000</td><td class=\"sorter-tie\">2 - 10 - 0</td><td>0.167</td><td class=\"sorter-tie\">1 - 3 - 0</td><td class=\"sorter-strike\">4L</td><td class=\"sorter-tie\">1 - 4 - 0</td></tr><tr><td scope=\"row\" tabindex=\"0\"><a aria-label=\"Go to New York Giants info page.\" class=\"d3-o-club-info\" href=\"/teams/new-york-giants/\"><div class=\"d3-o-club-logo\"><picture><!--[if IE 9]><video style=\"display:none\"><![endif]--><source media=\"(min-width:1024px)\" srcset=\"https://static.www.nfl.com/t_q-best/league/api/clubs/logos/NYG\"><source media=\"(min-width:768px)\" srcset=\"https://static.www.nfl.com/t_q-best/league/api/clubs/logos/NYG\"><source srcset=\"https://static.www.nfl.com/t_q-best/league/api/clubs/logos/NYG\"><!--[if IE 9]></video><![endif]--><img class=\"img-responsive\" src=\"https://static.www.nfl.com/t_q-best/league/api/clubs/logos/NYG\"/></source></source></source></picture></div><div class=\"d3-o-club-fullname\">New York Giants</div><div class=\"d3-o-club-shortname\">Giants</div></a></td><td>4</td><td>12</td><td>0</td><td>0.250</td><td>341</td><td>451</td><td>-110</td><td class=\"sorter-tie\">2 - 6 - 0</td><td class=\"sorter-tie\">2 - 6 - 0</td><td class=\"sorter-tie\">2 - 4 - 0</td><td>0.333</td><td class=\"sorter-tie\">3 - 9 - 0</td><td>0.250</td><td class=\"sorter-tie\">1 - 3 - 0</td><td class=\"sorter-strike\">1L</td><td class=\"sorter-tie\">2 - 3 - 0</td></tr><tr><td scope=\"row\" tabindex=\"0\"><a aria-label=\"Go to Arizona Cardinals info page.\" class=\"d3-o-club-info\" href=\"/teams/arizona-cardinals/\"><div class=\"d3-o-club-logo\"><picture><!--[if IE 9]><video style=\"display:none\"><![endif]--><source media=\"(min-width:1024px)\" srcset=\"https://static.www.nfl.com/t_q-best/league/api/clubs/logos/ARI\"><source media=\"(min-width:768px)\" srcset=\"https://static.www.nfl.com/t_q-best/league/api/clubs/logos/ARI\"><source srcset=\"https://static.www.nfl.com/t_q-best/league/api/clubs/logos/ARI\"><!--[if IE 9]></video><![endif]--><img class=\"img-responsive\" src=\"https://static.www.nfl.com/t_q-best/league/api/clubs/logos/ARI\"/></source></source></source></picture></div><div class=\"d3-o-club-fullname\">Arizona Cardinals</div><div class=\"d3-o-club-shortname\">Cardinals</div></a></td><td>5</td><td>10</td><td>1</td><td>0.344</td><td>361</td><td>442</td><td>-81</td><td class=\"sorter-tie\">2 - 5 - 1</td><td class=\"sorter-tie\">3 - 5 - 0</td><td class=\"sorter-tie\">1 - 5 - 0</td><td>0.167</td><td class=\"sorter-tie\">3 - 8 - 1</td><td>0.292</td><td class=\"sorter-tie\">2 - 2 - 0</td><td class=\"sorter-strike\">1L</td><td class=\"sorter-tie\">2 - 3 - 0</td></tr><tr><td scope=\"row\" tabindex=\"0\"><a aria-label=\"Go to Carolina Panthers info page.\" class=\"d3-o-club-info\" href=\"/teams/carolina-panthers/\"><div class=\"d3-o-club-logo\"><picture><!--[if IE 9]><video style=\"display:none\"><![endif]--><source media=\"(min-width:1024px)\" srcset=\"https://static.www.nfl.com/t_q-best/league/api/clubs/logos/CAR\"><source media=\"(min-width:768px)\" srcset=\"https://static.www.nfl.com/t_q-best/league/api/clubs/logos/CAR\"><source srcset=\"https://static.www.nfl.com/t_q-best/league/api/clubs/logos/CAR\"><!--[if IE 9]></video><![endif]--><img class=\"img-responsive\" src=\"https://static.www.nfl.com/t_q-best/league/api/clubs/logos/CAR\"/></source></source></source></picture></div><div class=\"d3-o-club-fullname\">Carolina Panthers</div><div class=\"d3-o-club-shortname\">Panthers</div></a></td><td>5</td><td>11</td><td>0</td><td>0.313</td><td>340</td><td>470</td><td>-130</td><td class=\"sorter-tie\">2 - 6 - 0</td><td class=\"sorter-tie\">3 - 5 - 0</td><td class=\"sorter-tie\">1 - 5 - 0</td><td>0.167</td><td class=\"sorter-tie\">2 - 10 - 0</td><td>0.167</td><td class=\"sorter-tie\">3 - 1 - 0</td><td class=\"sorter-strike\">8L</td><td class=\"sorter-tie\">0 - 5 - 0</td></tr><tr><td scope=\"row\" tabindex=\"0\"><a aria-label=\"Go to Los Angeles Chargers info page.\" class=\"d3-o-club-info\" href=\"/teams/los-angeles-chargers/\"><div class=\"d3-o-club-logo\"><picture><!--[if IE 9]><video style=\"display:none\"><![endif]--><source media=\"(min-width:1024px)\" srcset=\"https://static.www.nfl.com/t_q-best/league/api/clubs/logos/LAC\"><source media=\"(min-width:768px)\" srcset=\"https://static.www.nfl.com/t_q-best/league/api/clubs/logos/LAC\"><source srcset=\"https://static.www.nfl.com/t_q-best/league/api/clubs/logos/LAC\"><!--[if IE 9]></video><![endif]--><img class=\"img-responsive\" src=\"https://static.www.nfl.com/t_q-best/league/api/clubs/logos/LAC\"/></source></source></source></picture></div><div class=\"d3-o-club-fullname\">Los Angeles Chargers</div><div class=\"d3-o-club-shortname\">Chargers</div></a></td><td>5</td><td>11</td><td>0</td><td>0.313</td><td>337</td><td>345</td><td>-8</td><td class=\"sorter-tie\">2 - 6 - 0</td><td class=\"sorter-tie\">3 - 5 - 0</td><td class=\"sorter-tie\">0 - 6 - 0</td><td>0.000</td><td class=\"sorter-tie\">3 - 9 - 0</td><td>0.250</td><td class=\"sorter-tie\">2 - 2 - 0</td><td class=\"sorter-strike\">3L</td><td class=\"sorter-tie\">1 - 4 - 0</td></tr><tr><td scope=\"row\" tabindex=\"0\"><a aria-label=\"Go to Miami Dolphins info page.\" class=\"d3-o-club-info\" href=\"/teams/miami-dolphins/\"><div class=\"d3-o-club-logo\"><picture><!--[if IE 9]><video style=\"display:none\"><![endif]--><source media=\"(min-width:1024px)\" srcset=\"https://static.www.nfl.com/t_q-best/league/api/clubs/logos/MIA\"><source media=\"(min-width:768px)\" srcset=\"https://static.www.nfl.com/t_q-best/league/api/clubs/logos/MIA\"><source srcset=\"https://static.www.nfl.com/t_q-best/league/api/clubs/logos/MIA\"><!--[if IE 9]></video><![endif]--><img class=\"img-responsive\" src=\"https://static.www.nfl.com/t_q-best/league/api/clubs/logos/MIA\"/></source></source></source></picture></div><div class=\"d3-o-club-fullname\">Miami Dolphins</div><div class=\"d3-o-club-shortname\">Dolphins</div></a></td><td>5</td><td>11</td><td>0</td><td>0.313</td><td>306</td><td>494</td><td>-188</td><td class=\"sorter-tie\">3 - 5 - 0</td><td class=\"sorter-tie\">2 - 6 - 0</td><td class=\"sorter-tie\">2 - 4 - 0</td><td>0.333</td><td class=\"sorter-tie\">4 - 8 - 0</td><td>0.333</td><td class=\"sorter-tie\">1 - 3 - 0</td><td class=\"sorter-strike\">2W</td><td class=\"sorter-tie\">3 - 2 - 0</td></tr><tr><td scope=\"row\" tabindex=\"0\"><a aria-label=\"Go to Cleveland Browns info page.\" class=\"d3-o-club-info\" href=\"/teams/cleveland-browns/\"><div class=\"d3-o-club-logo\"><picture><!--[if IE 9]><video style=\"display:none\"><![endif]--><source media=\"(min-width:1024px)\" srcset=\"https://static.www.nfl.com/t_q-best/league/api/clubs/logos/CLE\"><source media=\"(min-width:768px)\" srcset=\"https://static.www.nfl.com/t_q-best/league/api/clubs/logos/CLE\"><source srcset=\"https://static.www.nfl.com/t_q-best/league/api/clubs/logos/CLE\"><!--[if IE 9]></video><![endif]--><img class=\"img-responsive\" src=\"https://static.www.nfl.com/t_q-best/league/api/clubs/logos/CLE\"/></source></source></source></picture></div><div class=\"d3-o-club-fullname\">Cleveland Browns</div><div class=\"d3-o-club-shortname\">Browns</div></a></td><td>6</td><td>10</td><td>0</td><td>0.375</td><td>335</td><td>393</td><td>-58</td><td class=\"sorter-tie\">4 - 4 - 0</td><td class=\"sorter-tie\">2 - 6 - 0</td><td class=\"sorter-tie\">3 - 3 - 0</td><td>0.500</td><td class=\"sorter-tie\">6 - 6 - 0</td><td>0.500</td><td class=\"sorter-tie\">0 - 4 - 0</td><td class=\"sorter-strike\">3L</td><td class=\"sorter-tie\">1 - 4 - 0</td></tr><tr><td scope=\"row\" tabindex=\"0\"><a aria-label=\"Go to Jacksonville Jaguars info page.\" class=\"d3-o-club-info\" href=\"/teams/jacksonville-jaguars/\"><div class=\"d3-o-club-logo\"><picture><!--[if IE 9]><video style=\"display:none\"><![endif]--><source media=\"(min-width:1024px)\" srcset=\"https://static.www.nfl.com/t_q-best/league/api/clubs/logos/JAX\"><source media=\"(min-width:768px)\" srcset=\"https://static.www.nfl.com/t_q-best/league/api/clubs/logos/JAX\"><source srcset=\"https://static.www.nfl.com/t_q-best/league/api/clubs/logos/JAX\"><!--[if IE 9]></video><![endif]--><img class=\"img-responsive\" src=\"https://static.www.nfl.com/t_q-best/league/api/clubs/logos/JAX\"/></source></source></source></picture></div><div class=\"d3-o-club-fullname\">Jacksonville Jaguars</div><div class=\"d3-o-club-shortname\">Jaguars</div></a></td><td>6</td><td>10</td><td>0</td><td>0.375</td><td>300</td><td>397</td><td>-97</td><td class=\"sorter-tie\">3 - 5 - 0</td><td class=\"sorter-tie\">3 - 5 - 0</td><td class=\"sorter-tie\">2 - 4 - 0</td><td>0.333</td><td class=\"sorter-tie\">6 - 6 - 0</td><td>0.500</td><td class=\"sorter-tie\">0 - 4 - 0</td><td class=\"sorter-strike\">1W</td><td class=\"sorter-tie\">2 - 3 - 0</td></tr><tr><td scope=\"row\" tabindex=\"0\"><a aria-label=\"Go to Atlanta Falcons info page.\" class=\"d3-o-club-info\" href=\"/teams/atlanta-falcons/\"><div class=\"d3-o-club-logo\"><picture><!--[if IE 9]><video style=\"display:none\"><![endif]--><source media=\"(min-width:1024px)\" srcset=\"https://static.www.nfl.com/t_q-best/league/api/clubs/logos/ATL\"><source media=\"(min-width:768px)\" srcset=\"https://static.www.nfl.com/t_q-best/league/api/clubs/logos/ATL\"><source srcset=\"https://static.www.nfl.com/t_q-best/league/api/clubs/logos/ATL\"><!--[if IE 9]></video><![endif]--><img class=\"img-responsive\" src=\"https://static.www.nfl.com/t_q-best/league/api/clubs/logos/ATL\"/></source></source></source></picture></div><div class=\"d3-o-club-fullname\">Atlanta Falcons</div><div class=\"d3-o-club-shortname\">Falcons</div></a></td><td>7</td><td>9</td><td>0</td><td>0.438</td><td>381</td><td>399</td><td>-18</td><td class=\"sorter-tie\">3 - 5 - 0</td><td class=\"sorter-tie\">4 - 4 - 0</td><td class=\"sorter-tie\">4 - 2 - 0</td><td>0.667</td><td class=\"sorter-tie\">6 - 6 - 0</td><td>0.500</td><td class=\"sorter-tie\">1 - 3 - 0</td><td class=\"sorter-strike\">4W</td><td class=\"sorter-tie\">4 - 1 - 0</td></tr><tr><td scope=\"row\" tabindex=\"0\"><a aria-label=\"Go to Denver Broncos info page.\" class=\"d3-o-club-info\" href=\"/teams/denver-broncos/\"><div class=\"d3-o-club-logo\"><picture><!--[if IE 9]><video style=\"display:none\"><![endif]--><source media=\"(min-width:1024px)\" srcset=\"https://static.www.nfl.com/t_q-best/league/api/clubs/logos/DEN\"><source media=\"(min-width:768px)\" srcset=\"https://static.www.nfl.com/t_q-best/league/api/clubs/logos/DEN\"><source srcset=\"https://static.www.nfl.com/t_q-best/league/api/clubs/logos/DEN\"><!--[if IE 9]></video><![endif]--><img class=\"img-responsive\" src=\"https://static.www.nfl.com/t_q-best/league/api/clubs/logos/DEN\"/></source></source></source></picture></div><div class=\"d3-o-club-fullname\">Denver Broncos</div><div class=\"d3-o-club-shortname\">Broncos</div></a></td><td>7</td><td>9</td><td>0</td><td>0.438</td><td>282</td><td>316</td><td>-34</td><td class=\"sorter-tie\">5 - 3 - 0</td><td class=\"sorter-tie\">2 - 6 - 0</td><td class=\"sorter-tie\">3 - 3 - 0</td><td>0.500</td><td class=\"sorter-tie\">6 - 6 - 0</td><td>0.500</td><td class=\"sorter-tie\">1 - 3 - 0</td><td class=\"sorter-strike\">2W</td><td class=\"sorter-tie\">4 - 1 - 0</td></tr><tr><td scope=\"row\" tabindex=\"0\"><a aria-label=\"Go to Indianapolis Colts info page.\" class=\"d3-o-club-info\" href=\"/teams/indianapolis-colts/\"><div class=\"d3-o-club-logo\"><picture><!--[if IE 9]><video style=\"display:none\"><![endif]--><source media=\"(min-width:1024px)\" srcset=\"https://static.www.nfl.com/t_q-best/league/api/clubs/logos/IND\"><source media=\"(min-width:768px)\" srcset=\"https://static.www.nfl.com/t_q-best/league/api/clubs/logos/IND\"><source srcset=\"https://static.www.nfl.com/t_q-best/league/api/clubs/logos/IND\"><!--[if IE 9]></video><![endif]--><img class=\"img-responsive\" src=\"https://static.www.nfl.com/t_q-best/league/api/clubs/logos/IND\"/></source></source></source></picture></div><div class=\"d3-o-club-fullname\">Indianapolis Colts</div><div class=\"d3-o-club-shortname\">Colts</div></a></td><td>7</td><td>9</td><td>0</td><td>0.438</td><td>361</td><td>373</td><td>-12</td><td class=\"sorter-tie\">5 - 3 - 0</td><td class=\"sorter-tie\">2 - 6 - 0</td><td class=\"sorter-tie\">3 - 3 - 0</td><td>0.500</td><td class=\"sorter-tie\">5 - 7 - 0</td><td>0.417</td><td class=\"sorter-tie\">2 - 2 - 0</td><td class=\"sorter-strike\">1L</td><td class=\"sorter-tie\">1 - 4 - 0</td></tr><tr><td scope=\"row\" tabindex=\"0\"><a aria-label=\"Go to Las Vegas Raiders info page.\" class=\"d3-o-club-info\" href=\"/teams/las-vegas-raiders/\"><div class=\"d3-o-club-logo\"><picture><!--[if IE 9]><video style=\"display:none\"><![endif]--><source media=\"(min-width:1024px)\" srcset=\"https://static.www.nfl.com/t_q-best/league/api/clubs/logos/LV\"><source media=\"(min-width:768px)\" srcset=\"https://static.www.nfl.com/t_q-best/league/api/clubs/logos/LV\"><source srcset=\"https://static.www.nfl.com/t_q-best/league/api/clubs/logos/LV\"><!--[if IE 9]></video><![endif]--><img class=\"img-responsive\" src=\"https://static.www.nfl.com/t_q-best/league/api/clubs/logos/LV\"/></source></source></source></picture></div><div class=\"d3-o-club-fullname\">Las Vegas Raiders</div><div class=\"d3-o-club-shortname\">Raiders</div></a></td><td>7</td><td>9</td><td>0</td><td>0.438</td><td>313</td><td>419</td><td>-106</td><td class=\"sorter-tie\">5 - 3 - 0</td><td class=\"sorter-tie\">2 - 6 - 0</td><td class=\"sorter-tie\">3 - 3 - 0</td><td>0.500</td><td class=\"sorter-tie\">5 - 7 - 0</td><td>0.417</td><td class=\"sorter-tie\">2 - 2 - 0</td><td class=\"sorter-strike\">1L</td><td class=\"sorter-tie\">1 - 4 - 0</td></tr><tr><td scope=\"row\" tabindex=\"0\"><a aria-label=\"Go to New York Jets info page.\" class=\"d3-o-club-info\" href=\"/teams/new-york-jets/\"><div class=\"d3-o-club-logo\"><picture><!--[if IE 9]><video style=\"display:none\"><![endif]--><source media=\"(min-width:1024px)\" srcset=\"https://static.www.nfl.com/t_q-best/league/api/clubs/logos/NYJ\"><source media=\"(min-width:768px)\" srcset=\"https://static.www.nfl.com/t_q-best/league/api/clubs/logos/NYJ\"><source srcset=\"https://static.www.nfl.com/t_q-best/league/api/clubs/logos/NYJ\"><!--[if IE 9]></video><![endif]--><img class=\"img-responsive\" src=\"https://static.www.nfl.com/t_q-best/league/api/clubs/logos/NYJ\"/></source></source></source></picture></div><div class=\"d3-o-club-fullname\">New York Jets</div><div class=\"d3-o-club-shortname\">Jets</div></a></td><td>7</td><td>9</td><td>0</td><td>0.438</td><td>276</td><td>359</td><td>-83</td><td class=\"sorter-tie\">5 - 3 - 0</td><td class=\"sorter-tie\">2 - 6 - 0</td><td class=\"sorter-tie\">2 - 4 - 0</td><td>0.333</td><td class=\"sorter-tie\">4 - 8 - 0</td><td>0.333</td><td class=\"sorter-tie\">3 - 1 - 0</td><td class=\"sorter-strike\">2W</td><td class=\"sorter-tie\">3 - 2 - 0</td></tr><tr><td scope=\"row\" tabindex=\"0\"><a aria-label=\"Go to Tampa Bay Buccaneers info page.\" class=\"d3-o-club-info\" href=\"/teams/tampa-bay-buccaneers/\"><div class=\"d3-o-club-logo\"><picture><!--[if IE 9]><video style=\"display:none\"><![endif]--><source media=\"(min-width:1024px)\" srcset=\"https://static.www.nfl.com/t_q-best/league/api/clubs/logos/TB\"><source media=\"(min-width:768px)\" srcset=\"https://static.www.nfl.com/t_q-best/league/api/clubs/logos/TB\"><source srcset=\"https://static.www.nfl.com/t_q-best/league/api/clubs/logos/TB\"><!--[if IE 9]></video><![endif]--><img class=\"img-responsive\" src=\"https://static.www.nfl.com/t_q-best/league/api/clubs/logos/TB\"/></source></source></source></picture></div><div class=\"d3-o-club-fullname\">Tampa Bay Buccaneers</div><div class=\"d3-o-club-shortname\">Buccaneers</div></a></td><td>7</td><td>9</td><td>0</td><td>0.438</td><td>458</td><td>449</td><td>9</td><td class=\"sorter-tie\">2 - 6 - 0</td><td class=\"sorter-tie\">5 - 3 - 0</td><td class=\"sorter-tie\">2 - 4 - 0</td><td>0.333</td><td class=\"sorter-tie\">5 - 7 - 0</td><td>0.417</td><td class=\"sorter-tie\">2 - 2 - 0</td><td class=\"sorter-strike\">2L</td><td class=\"sorter-tie\">3 - 2 - 0</td></tr><tr><td scope=\"row\" tabindex=\"0\"><a aria-label=\"Go to Chicago Bears info page.\" class=\"d3-o-club-info\" href=\"/teams/chicago-bears/\"><div class=\"d3-o-club-logo\"><picture><!--[if IE 9]><video style=\"display:none\"><![endif]--><source media=\"(min-width:1024px)\" srcset=\"https://static.www.nfl.com/t_q-best/league/api/clubs/logos/CHI\"><source media=\"(min-width:768px)\" srcset=\"https://static.www.nfl.com/t_q-best/league/api/clubs/logos/CHI\"><source srcset=\"https://static.www.nfl.com/t_q-best/league/api/clubs/logos/CHI\"><!--[if IE 9]></video><![endif]--><img class=\"img-responsive\" src=\"https://static.www.nfl.com/t_q-best/league/api/clubs/logos/CHI\"/></source></source></source></picture></div><div class=\"d3-o-club-fullname\">Chicago Bears</div><div class=\"d3-o-club-shortname\">Bears</div></a></td><td>8</td><td>8</td><td>0</td><td>0.500</td><td>280</td><td>298</td><td>-18</td><td class=\"sorter-tie\">4 - 4 - 0</td><td class=\"sorter-tie\">4 - 4 - 0</td><td class=\"sorter-tie\">4 - 2 - 0</td><td>0.667</td><td class=\"sorter-tie\">7 - 5 - 0</td><td>0.583</td><td class=\"sorter-tie\">1 - 3 - 0</td><td class=\"sorter-strike\">1W</td><td class=\"sorter-tie\">3 - 2 - 0</td></tr><tr><td scope=\"row\" tabindex=\"0\"><a aria-label=\"Go to Dallas Cowboys info page.\" class=\"d3-o-club-info\" href=\"/teams/dallas-cowboys/\"><div class=\"d3-o-club-logo\"><picture><!--[if IE 9]><video style=\"display:none\"><![endif]--><source media=\"(min-width:1024px)\" srcset=\"https://static.www.nfl.com/t_q-best/league/api/clubs/logos/DAL\"><source media=\"(min-width:768px)\" srcset=\"https://static.www.nfl.com/t_q-best/league/api/clubs/logos/DAL\"><source srcset=\"https://static.www.nfl.com/t_q-best/league/api/clubs/logos/DAL\"><!--[if IE 9]></video><![endif]--><img class=\"img-responsive\" src=\"https://static.www.nfl.com/t_q-best/league/api/clubs/logos/DAL\"/></source></source></source></picture></div><div class=\"d3-o-club-fullname\">Dallas Cowboys</div><div class=\"d3-o-club-shortname\">Cowboys</div></a></td><td>8</td><td>8</td><td>0</td><td>0.500</td><td>434</td><td>321</td><td>113</td><td class=\"sorter-tie\">5 - 3 - 0</td><td class=\"sorter-tie\">3 - 5 - 0</td><td class=\"sorter-tie\">5 - 1 - 0</td><td>0.833</td><td class=\"sorter-tie\">7 - 5 - 0</td><td>0.583</td><td class=\"sorter-tie\">1 - 3 - 0</td><td class=\"sorter-strike\">1W</td><td class=\"sorter-tie\">2 - 3 - 0</td></tr><tr><td scope=\"row\" tabindex=\"0\"><a aria-label=\"Go to Pittsburgh Steelers info page.\" class=\"d3-o-club-info\" href=\"/teams/pittsburgh-steelers/\"><div class=\"d3-o-club-logo\"><picture><!--[if IE 9]><video style=\"display:none\"><![endif]--><source media=\"(min-width:1024px)\" srcset=\"https://static.www.nfl.com/t_q-best/league/api/clubs/logos/PIT\"><source media=\"(min-width:768px)\" srcset=\"https://static.www.nfl.com/t_q-best/league/api/clubs/logos/PIT\"><source srcset=\"https://static.www.nfl.com/t_q-best/league/api/clubs/logos/PIT\"><!--[if IE 9]></video><![endif]--><img class=\"img-responsive\" src=\"https://static.www.nfl.com/t_q-best/league/api/clubs/logos/PIT\"/></source></source></source></picture></div><div class=\"d3-o-club-fullname\">Pittsburgh Steelers</div><div class=\"d3-o-club-shortname\">Steelers</div></a></td><td>8</td><td>8</td><td>0</td><td>0.500</td><td>289</td><td>303</td><td>-14</td><td class=\"sorter-tie\">5 - 3 - 0</td><td class=\"sorter-tie\">3 - 5 - 0</td><td class=\"sorter-tie\">3 - 3 - 0</td><td>0.500</td><td class=\"sorter-tie\">6 - 6 - 0</td><td>0.500</td><td class=\"sorter-tie\">2 - 2 - 0</td><td class=\"sorter-strike\">3L</td><td class=\"sorter-tie\">2 - 3 - 0</td></tr><tr><td scope=\"row\" tabindex=\"0\"><a aria-label=\"Go to Los Angeles Rams info page.\" class=\"d3-o-club-info\" href=\"/teams/los-angeles-rams/\"><div class=\"d3-o-club-logo\"><picture><!--[if IE 9]><video style=\"display:none\"><![endif]--><source media=\"(min-width:1024px)\" srcset=\"https://static.www.nfl.com/t_q-best/league/api/clubs/logos/LA\"><source media=\"(min-width:768px)\" srcset=\"https://static.www.nfl.com/t_q-best/league/api/clubs/logos/LA\"><source srcset=\"https://static.www.nfl.com/t_q-best/league/api/clubs/logos/LA\"><!--[if IE 9]></video><![endif]--><img class=\"img-responsive\" src=\"https://static.www.nfl.com/t_q-best/league/api/clubs/logos/LA\"/></source></source></source></picture></div><div class=\"d3-o-club-fullname\">Los Angeles Rams</div><div class=\"d3-o-club-shortname\">Rams</div></a></td><td>9</td><td>7</td><td>0</td><td>0.563</td><td>394</td><td>364</td><td>30</td><td class=\"sorter-tie\">5 - 3 - 0</td><td class=\"sorter-tie\">4 - 4 - 0</td><td class=\"sorter-tie\">3 - 3 - 0</td><td>0.500</td><td class=\"sorter-tie\">7 - 5 - 0</td><td>0.583</td><td class=\"sorter-tie\">2 - 2 - 0</td><td class=\"sorter-strike\">1W</td><td class=\"sorter-tie\">3 - 2 - 0</td></tr><tr><td scope=\"row\" tabindex=\"0\"><a aria-label=\"Go to Philadelphia Eagles info page.\" class=\"d3-o-club-info\" href=\"/teams/philadelphia-eagles/\"><div class=\"d3-o-club-logo\"><picture><!--[if IE 9]><video style=\"display:none\"><![endif]--><source media=\"(min-width:1024px)\" srcset=\"https://static.www.nfl.com/t_q-best/league/api/clubs/logos/PHI\"><source media=\"(min-width:768px)\" srcset=\"https://static.www.nfl.com/t_q-best/league/api/clubs/logos/PHI\"><source srcset=\"https://static.www.nfl.com/t_q-best/league/api/clubs/logos/PHI\"><!--[if IE 9]></video><![endif]--><img class=\"img-responsive\" src=\"https://static.www.nfl.com/t_q-best/league/api/clubs/logos/PHI\"/></source></source></source></picture></div><div class=\"d3-o-club-fullname\">Philadelphia Eagles <sup>x</sup><sup>z</sup></div><div class=\"d3-o-club-shortname\">Eagles <sup>x</sup><sup>z</sup></div></a></td><td>9</td><td>7</td><td>0</td><td>0.563</td><td>385</td><td>354</td><td>31</td><td class=\"sorter-tie\">5 - 3 - 0</td><td class=\"sorter-tie\">4 - 4 - 0</td><td class=\"sorter-tie\">5 - 1 - 0</td><td>0.833</td><td class=\"sorter-tie\">7 - 5 - 0</td><td>0.583</td><td class=\"sorter-tie\">2 - 2 - 0</td><td class=\"sorter-strike\">4W</td><td class=\"sorter-tie\">4 - 1 - 0</td></tr><tr><td scope=\"row\" tabindex=\"0\"><a aria-label=\"Go to Tennessee Titans info page.\" class=\"d3-o-club-info\" href=\"/teams/tennessee-titans/\"><div class=\"d3-o-club-logo\"><picture><!--[if IE 9]><video style=\"display:none\"><![endif]--><source media=\"(min-width:1024px)\" srcset=\"https://static.www.nfl.com/t_q-best/league/api/clubs/logos/TEN\"><source media=\"(min-width:768px)\" srcset=\"https://static.www.nfl.com/t_q-best/league/api/clubs/logos/TEN\"><source srcset=\"https://static.www.nfl.com/t_q-best/league/api/clubs/logos/TEN\"><!--[if IE 9]></video><![endif]--><img class=\"img-responsive\" src=\"https://static.www.nfl.com/t_q-best/league/api/clubs/logos/TEN\"/></source></source></source></picture></div><div class=\"d3-o-club-fullname\">Tennessee Titans <sup>x</sup></div><div class=\"d3-o-club-shortname\">Titans <sup>x</sup></div></a></td><td>9</td><td>7</td><td>0</td><td>0.563</td><td>402</td><td>331</td><td>71</td><td class=\"sorter-tie\">4 - 4 - 0</td><td class=\"sorter-tie\">5 - 3 - 0</td><td class=\"sorter-tie\">3 - 3 - 0</td><td>0.500</td><td class=\"sorter-tie\">7 - 5 - 0</td><td>0.583</td><td class=\"sorter-tie\">2 - 2 - 0</td><td class=\"sorter-strike\">1W</td><td class=\"sorter-tie\">3 - 2 - 0</td></tr><tr><td scope=\"row\" tabindex=\"0\"><a aria-label=\"Go to Buffalo Bills info page.\" class=\"d3-o-club-info\" href=\"/teams/buffalo-bills/\"><div class=\"d3-o-club-logo\"><picture><!--[if IE 9]><video style=\"display:none\"><![endif]--><source media=\"(min-width:1024px)\" srcset=\"https://static.www.nfl.com/t_q-best/league/api/clubs/logos/BUF\"><source media=\"(min-width:768px)\" srcset=\"https://static.www.nfl.com/t_q-best/league/api/clubs/logos/BUF\"><source srcset=\"https://static.www.nfl.com/t_q-best/league/api/clubs/logos/BUF\"><!--[if IE 9]></video><![endif]--><img class=\"img-responsive\" src=\"https://static.www.nfl.com/t_q-best/league/api/clubs/logos/BUF\"/></source></source></source></picture></div><div class=\"d3-o-club-fullname\">Buffalo Bills <sup>x</sup></div><div class=\"d3-o-club-shortname\">Bills <sup>x</sup></div></a></td><td>10</td><td>6</td><td>0</td><td>0.625</td><td>314</td><td>259</td><td>55</td><td class=\"sorter-tie\">4 - 4 - 0</td><td class=\"sorter-tie\">6 - 2 - 0</td><td class=\"sorter-tie\">3 - 3 - 0</td><td>0.500</td><td class=\"sorter-tie\">7 - 5 - 0</td><td>0.583</td><td class=\"sorter-tie\">3 - 1 - 0</td><td class=\"sorter-strike\">2L</td><td class=\"sorter-tie\">2 - 3 - 0</td></tr><tr><td scope=\"row\" tabindex=\"0\"><a aria-label=\"Go to Houston Texans info page.\" class=\"d3-o-club-info\" href=\"/teams/houston-texans/\"><div class=\"d3-o-club-logo\"><picture><!--[if IE 9]><video style=\"display:none\"><![endif]--><source media=\"(min-width:1024px)\" srcset=\"https://static.www.nfl.com/t_q-best/league/api/clubs/logos/HOU\"><source media=\"(min-width:768px)\" srcset=\"https://static.www.nfl.com/t_q-best/league/api/clubs/logos/HOU\"><source srcset=\"https://static.www.nfl.com/t_q-best/league/api/clubs/logos/HOU\"><!--[if IE 9]></video><![endif]--><img class=\"img-responsive\" src=\"https://static.www.nfl.com/t_q-best/league/api/clubs/logos/HOU\"/></source></source></source></picture></div><div class=\"d3-o-club-fullname\">Houston Texans <sup>x</sup><sup>z</sup></div><div class=\"d3-o-club-shortname\">Texans <sup>x</sup><sup>z</sup></div></a></td><td>10</td><td>6</td><td>0</td><td>0.625</td><td>378</td><td>385</td><td>-7</td><td class=\"sorter-tie\">5 - 3 - 0</td><td class=\"sorter-tie\">5 - 3 - 0</td><td class=\"sorter-tie\">4 - 2 - 0</td><td>0.667</td><td class=\"sorter-tie\">8 - 4 - 0</td><td>0.667</td><td class=\"sorter-tie\">2 - 2 - 0</td><td class=\"sorter-strike\">1L</td><td class=\"sorter-tie\">3 - 2 - 0</td></tr><tr><td scope=\"row\" tabindex=\"0\"><a aria-label=\"Go to Minnesota Vikings info page.\" class=\"d3-o-club-info\" href=\"/teams/minnesota-vikings/\"><div class=\"d3-o-club-logo\"><picture><!--[if IE 9]><video style=\"display:none\"><![endif]--><source media=\"(min-width:1024px)\" srcset=\"https://static.www.nfl.com/t_q-best/league/api/clubs/logos/MIN\"><source media=\"(min-width:768px)\" srcset=\"https://static.www.nfl.com/t_q-best/league/api/clubs/logos/MIN\"><source srcset=\"https://static.www.nfl.com/t_q-best/league/api/clubs/logos/MIN\"><!--[if IE 9]></video><![endif]--><img class=\"img-responsive\" src=\"https://static.www.nfl.com/t_q-best/league/api/clubs/logos/MIN\"/></source></source></source></picture></div><div class=\"d3-o-club-fullname\">Minnesota Vikings <sup>x</sup></div><div class=\"d3-o-club-shortname\">Vikings <sup>x</sup></div></a></td><td>10</td><td>6</td><td>0</td><td>0.625</td><td>407</td><td>303</td><td>104</td><td class=\"sorter-tie\">6 - 2 - 0</td><td class=\"sorter-tie\">4 - 4 - 0</td><td class=\"sorter-tie\">2 - 4 - 0</td><td>0.333</td><td class=\"sorter-tie\">7 - 5 - 0</td><td>0.583</td><td class=\"sorter-tie\">3 - 1 - 0</td><td class=\"sorter-strike\">2L</td><td class=\"sorter-tie\">2 - 3 - 0</td></tr><tr><td scope=\"row\" tabindex=\"0\"><a aria-label=\"Go to Seattle Seahawks info page.\" class=\"d3-o-club-info\" href=\"/teams/seattle-seahawks/\"><div class=\"d3-o-club-logo\"><picture><!--[if IE 9]><video style=\"display:none\"><![endif]--><source media=\"(min-width:1024px)\" srcset=\"https://static.www.nfl.com/t_q-best/league/api/clubs/logos/SEA\"><source media=\"(min-width:768px)\" srcset=\"https://static.www.nfl.com/t_q-best/league/api/clubs/logos/SEA\"><source srcset=\"https://static.www.nfl.com/t_q-best/league/api/clubs/logos/SEA\"><!--[if IE 9]></video><![endif]--><img class=\"img-responsive\" src=\"https://static.www.nfl.com/t_q-best/league/api/clubs/logos/SEA\"/></source></source></source></picture></div><div class=\"d3-o-club-fullname\">Seattle Seahawks</div><div class=\"d3-o-club-shortname\">Seahawks</div></a></td><td>11</td><td>5</td><td>0</td><td>0.688</td><td>405</td><td>398</td><td>7</td><td class=\"sorter-tie\">4 - 4 - 0</td><td class=\"sorter-tie\">7 - 1 - 0</td><td class=\"sorter-tie\">3 - 3 - 0</td><td>0.500</td><td class=\"sorter-tie\">8 - 4 - 0</td><td>0.667</td><td class=\"sorter-tie\">3 - 1 - 0</td><td class=\"sorter-strike\">2L</td><td class=\"sorter-tie\">2 - 3 - 0</td></tr><tr><td scope=\"row\" tabindex=\"0\"><a aria-label=\"Go to Kansas City Chiefs info page.\" class=\"d3-o-club-info\" href=\"/teams/kansas-city-chiefs/\"><div class=\"d3-o-club-logo\"><picture><!--[if IE 9]><video style=\"display:none\"><![endif]--><source media=\"(min-width:1024px)\" srcset=\"https://static.www.nfl.com/t_q-best/league/api/clubs/logos/KC\"><source media=\"(min-width:768px)\" srcset=\"https://static.www.nfl.com/t_q-best/league/api/clubs/logos/KC\"><source srcset=\"https://static.www.nfl.com/t_q-best/league/api/clubs/logos/KC\"><!--[if IE 9]></video><![endif]--><img class=\"img-responsive\" src=\"https://static.www.nfl.com/t_q-best/league/api/clubs/logos/KC\"/></source></source></source></picture></div><div class=\"d3-o-club-fullname\">Kansas City Chiefs <sup>x</sup><sup>z</sup></div><div class=\"d3-o-club-shortname\">Chiefs <sup>x</sup><sup>z</sup></div></a></td><td>12</td><td>4</td><td>0</td><td>0.750</td><td>451</td><td>308</td><td>143</td><td class=\"sorter-tie\">5 - 3 - 0</td><td class=\"sorter-tie\">7 - 1 - 0</td><td class=\"sorter-tie\">6 - 0 - 0</td><td>1.000</td><td class=\"sorter-tie\">9 - 3 - 0</td><td>0.750</td><td class=\"sorter-tie\">3 - 1 - 0</td><td class=\"sorter-strike\">6W</td><td class=\"sorter-tie\">5 - 0 - 0</td></tr><tr><td scope=\"row\" tabindex=\"0\"><a aria-label=\"Go to New England Patriots info page.\" class=\"d3-o-club-info\" href=\"/teams/new-england-patriots/\"><div class=\"d3-o-club-logo\"><picture><!--[if IE 9]><video style=\"display:none\"><![endif]--><source media=\"(min-width:1024px)\" srcset=\"https://static.www.nfl.com/t_q-best/league/api/clubs/logos/NE\"><source media=\"(min-width:768px)\" srcset=\"https://static.www.nfl.com/t_q-best/league/api/clubs/logos/NE\"><source srcset=\"https://static.www.nfl.com/t_q-best/league/api/clubs/logos/NE\"><!--[if IE 9]></video><![endif]--><img class=\"img-responsive\" src=\"https://static.www.nfl.com/t_q-best/league/api/clubs/logos/NE\"/></source></source></source></picture></div><div class=\"d3-o-club-fullname\">New England Patriots <sup>x</sup><sup>z</sup></div><div class=\"d3-o-club-shortname\">Patriots <sup>x</sup><sup>z</sup></div></a></td><td>12</td><td>4</td><td>0</td><td>0.750</td><td>420</td><td>225</td><td>195</td><td class=\"sorter-tie\">6 - 2 - 0</td><td class=\"sorter-tie\">6 - 2 - 0</td><td class=\"sorter-tie\">5 - 1 - 0</td><td>0.833</td><td class=\"sorter-tie\">8 - 4 - 0</td><td>0.667</td><td class=\"sorter-tie\">4 - 0 - 0</td><td class=\"sorter-strike\">1L</td><td class=\"sorter-tie\">2 - 3 - 0</td></tr><tr><td scope=\"row\" tabindex=\"0\"><a aria-label=\"Go to Green Bay Packers info page.\" class=\"d3-o-club-info\" href=\"/teams/green-bay-packers/\"><div class=\"d3-o-club-logo\"><picture><!--[if IE 9]><video style=\"display:none\"><![endif]--><source media=\"(min-width:1024px)\" srcset=\"https://static.www.nfl.com/t_q-best/league/api/clubs/logos/GB\"><source media=\"(min-width:768px)\" srcset=\"https://static.www.nfl.com/t_q-best/league/api/clubs/logos/GB\"><source srcset=\"https://static.www.nfl.com/t_q-best/league/api/clubs/logos/GB\"><!--[if IE 9]></video><![endif]--><img class=\"img-responsive\" src=\"https://static.www.nfl.com/t_q-best/league/api/clubs/logos/GB\"/></source></source></source></picture></div><div class=\"d3-o-club-fullname\">Green Bay Packers <sup>x</sup><sup>z</sup></div><div class=\"d3-o-club-shortname\">Packers <sup>x</sup><sup>z</sup></div></a></td><td>13</td><td>3</td><td>0</td><td>0.813</td><td>376</td><td>313</td><td>63</td><td class=\"sorter-tie\">7 - 1 - 0</td><td class=\"sorter-tie\">6 - 2 - 0</td><td class=\"sorter-tie\">6 - 0 - 0</td><td>1.000</td><td class=\"sorter-tie\">10 - 2 - 0</td><td>0.833</td><td class=\"sorter-tie\">3 - 1 - 0</td><td class=\"sorter-strike\">5W</td><td class=\"sorter-tie\">5 - 0 - 0</td></tr><tr><td scope=\"row\" tabindex=\"0\"><a aria-label=\"Go to New Orleans Saints info page.\" class=\"d3-o-club-info\" href=\"/teams/new-orleans-saints/\"><div class=\"d3-o-club-logo\"><picture><!--[if IE 9]><video style=\"display:none\"><![endif]--><source media=\"(min-width:1024px)\" srcset=\"https://static.www.nfl.com/t_q-best/league/api/clubs/logos/NO\"><source media=\"(min-width:768px)\" srcset=\"https://static.www.nfl.com/t_q-best/league/api/clubs/logos/NO\"><source srcset=\"https://static.www.nfl.com/t_q-best/league/api/clubs/logos/NO\"><!--[if IE 9]></video><![endif]--><img class=\"img-responsive\" src=\"https://static.www.nfl.com/t_q-best/league/api/clubs/logos/NO\"/></source></source></source></picture></div><div class=\"d3-o-club-fullname\">New Orleans Saints <sup>x</sup><sup>z</sup></div><div class=\"d3-o-club-shortname\">Saints <sup>x</sup><sup>z</sup></div></a></td><td>13</td><td>3</td><td>0</td><td>0.813</td><td>458</td><td>341</td><td>117</td><td class=\"sorter-tie\">6 - 2 - 0</td><td class=\"sorter-tie\">7 - 1 - 0</td><td class=\"sorter-tie\">5 - 1 - 0</td><td>0.833</td><td class=\"sorter-tie\">9 - 3 - 0</td><td>0.750</td><td class=\"sorter-tie\">4 - 0 - 0</td><td class=\"sorter-strike\">3W</td><td class=\"sorter-tie\">4 - 1 - 0</td></tr><tr><td scope=\"row\" tabindex=\"0\"><a aria-label=\"Go to San Francisco 49ers info page.\" class=\"d3-o-club-info\" href=\"/teams/san-francisco-49ers/\"><div class=\"d3-o-club-logo\"><picture><!--[if IE 9]><video style=\"display:none\"><![endif]--><source media=\"(min-width:1024px)\" srcset=\"https://static.www.nfl.com/t_q-best/league/api/clubs/logos/SF\"><source media=\"(min-width:768px)\" srcset=\"https://static.www.nfl.com/t_q-best/league/api/clubs/logos/SF\"><source srcset=\"https://static.www.nfl.com/t_q-best/league/api/clubs/logos/SF\"><!--[if IE 9]></video><![endif]--><img class=\"img-responsive\" src=\"https://static.www.nfl.com/t_q-best/league/api/clubs/logos/SF\"/></source></source></source></picture></div><div class=\"d3-o-club-fullname\">San Francisco 49ers <sup>x</sup><sup>*</sup></div><div class=\"d3-o-club-shortname\">49ers <sup>x</sup><sup>*</sup></div></a></td><td>13</td><td>3</td><td>0</td><td>0.813</td><td>479</td><td>310</td><td>169</td><td class=\"sorter-tie\">6 - 2 - 0</td><td class=\"sorter-tie\">7 - 1 - 0</td><td class=\"sorter-tie\">5 - 1 - 0</td><td>0.833</td><td class=\"sorter-tie\">10 - 2 - 0</td><td>0.833</td><td class=\"sorter-tie\">3 - 1 - 0</td><td class=\"sorter-strike\">2W</td><td class=\"sorter-tie\">3 - 2 - 0</td></tr><tr><td scope=\"row\" tabindex=\"0\"><a aria-label=\"Go to Baltimore Ravens info page.\" class=\"d3-o-club-info\" href=\"/teams/baltimore-ravens/\"><div class=\"d3-o-club-logo\"><picture><!--[if IE 9]><video style=\"display:none\"><![endif]--><source media=\"(min-width:1024px)\" srcset=\"https://static.www.nfl.com/t_q-best/league/api/clubs/logos/BAL\"><source media=\"(min-width:768px)\" srcset=\"https://static.www.nfl.com/t_q-best/league/api/clubs/logos/BAL\"><source srcset=\"https://static.www.nfl.com/t_q-best/league/api/clubs/logos/BAL\"><!--[if IE 9]></video><![endif]--><img class=\"img-responsive\" src=\"https://static.www.nfl.com/t_q-best/league/api/clubs/logos/BAL\"/></source></source></source></picture></div><div class=\"d3-o-club-fullname\">Baltimore Ravens <sup>x</sup><sup>z</sup><sup>*</sup></div><div class=\"d3-o-club-shortname\">Ravens <sup>x</sup><sup>z</sup><sup>*</sup></div></a></td><td>14</td><td>2</td><td>0</td><td>0.875</td><td>531</td><td>282</td><td>249</td><td class=\"sorter-tie\">7 - 1 - 0</td><td class=\"sorter-tie\">7 - 1 - 0</td><td class=\"sorter-tie\">5 - 1 - 0</td><td>0.833</td><td class=\"sorter-tie\">10 - 2 - 0</td><td>0.833</td><td class=\"sorter-tie\">4 - 0 - 0</td><td class=\"sorter-strike\">12W</td><td class=\"sorter-tie\">5 - 0 - 0</td></tr></tbody></table>"
      ]
     },
     "execution_count": 5,
     "metadata": {},
     "output_type": "execute_result"
    }
   ],
   "source": [
    "table"
   ]
  },
  {
   "cell_type": "code",
   "execution_count": 6,
   "id": "2a167fc5",
   "metadata": {},
   "outputs": [],
   "source": [
    "headers = []\n",
    "\n",
    "for i in table.find_all('th'):\n",
    "    title = i.text\n",
    "    headers.append(title)"
   ]
  },
  {
   "cell_type": "code",
   "execution_count": 7,
   "id": "57926c6f",
   "metadata": {},
   "outputs": [],
   "source": [
    "df = pd.DataFrame(columns= headers)"
   ]
  },
  {
   "cell_type": "code",
   "execution_count": 8,
   "id": "cdb1db19",
   "metadata": {},
   "outputs": [],
   "source": [
    "for j in table.find_all('tr')[1:]:\n",
    "    first_td = j.find_all('td')[0].find('div', class_='d3-o-club-fullname').text.strip()\n",
    "    row_data = j.find_all('td')[1:]\n",
    "    row = [tr.text.strip() for tr in row_data]\n",
    "    row.insert(0, first_td)\n",
    "    length = len(df)\n",
    "    df.loc[length] = row\n"
   ]
  },
  {
   "cell_type": "code",
   "execution_count": 9,
   "id": "3bb17f4a",
   "metadata": {},
   "outputs": [
    {
     "name": "stdout",
     "output_type": "stream",
     "text": [
      "                   NFL Team   W   L  T    PCT   PF   PA Net Pts       Home  \\\n",
      "0        Cincinnati Bengals   2  14  0  0.125  279  420    -141  2 - 6 - 0   \n",
      "1             Detroit Lions   3  12  1  0.219  341  423     -82  2 - 6 - 0   \n",
      "2     Washington Commanders   3  13  0  0.188  266  435    -169  1 - 7 - 0   \n",
      "3           New York Giants   4  12  0  0.250  341  451    -110  2 - 6 - 0   \n",
      "4         Arizona Cardinals   5  10  1  0.344  361  442     -81  2 - 5 - 1   \n",
      "5         Carolina Panthers   5  11  0  0.313  340  470    -130  2 - 6 - 0   \n",
      "6      Los Angeles Chargers   5  11  0  0.313  337  345      -8  2 - 6 - 0   \n",
      "7            Miami Dolphins   5  11  0  0.313  306  494    -188  3 - 5 - 0   \n",
      "8          Cleveland Browns   6  10  0  0.375  335  393     -58  4 - 4 - 0   \n",
      "9      Jacksonville Jaguars   6  10  0  0.375  300  397     -97  3 - 5 - 0   \n",
      "10          Atlanta Falcons   7   9  0  0.438  381  399     -18  3 - 5 - 0   \n",
      "11           Denver Broncos   7   9  0  0.438  282  316     -34  5 - 3 - 0   \n",
      "12       Indianapolis Colts   7   9  0  0.438  361  373     -12  5 - 3 - 0   \n",
      "13        Las Vegas Raiders   7   9  0  0.438  313  419    -106  5 - 3 - 0   \n",
      "14            New York Jets   7   9  0  0.438  276  359     -83  5 - 3 - 0   \n",
      "15     Tampa Bay Buccaneers   7   9  0  0.438  458  449       9  2 - 6 - 0   \n",
      "16            Chicago Bears   8   8  0  0.500  280  298     -18  4 - 4 - 0   \n",
      "17           Dallas Cowboys   8   8  0  0.500  434  321     113  5 - 3 - 0   \n",
      "18      Pittsburgh Steelers   8   8  0  0.500  289  303     -14  5 - 3 - 0   \n",
      "19         Los Angeles Rams   9   7  0  0.563  394  364      30  5 - 3 - 0   \n",
      "20   Philadelphia Eagles xz   9   7  0  0.563  385  354      31  5 - 3 - 0   \n",
      "21       Tennessee Titans x   9   7  0  0.563  402  331      71  4 - 4 - 0   \n",
      "22          Buffalo Bills x  10   6  0  0.625  314  259      55  4 - 4 - 0   \n",
      "23        Houston Texans xz  10   6  0  0.625  378  385      -7  5 - 3 - 0   \n",
      "24      Minnesota Vikings x  10   6  0  0.625  407  303     104  6 - 2 - 0   \n",
      "25         Seattle Seahawks  11   5  0  0.688  405  398       7  4 - 4 - 0   \n",
      "26    Kansas City Chiefs xz  12   4  0  0.750  451  308     143  5 - 3 - 0   \n",
      "27  New England Patriots xz  12   4  0  0.750  420  225     195  6 - 2 - 0   \n",
      "28     Green Bay Packers xz  13   3  0  0.813  376  313      63  7 - 1 - 0   \n",
      "29    New Orleans Saints xz  13   3  0  0.813  458  341     117  6 - 2 - 0   \n",
      "30   San Francisco 49ers x*  13   3  0  0.813  479  310     169  6 - 2 - 0   \n",
      "31     Baltimore Ravens xz*  14   2  0  0.875  531  282     249  7 - 1 - 0   \n",
      "\n",
      "         Road        Div    Pct        Conf    Pct   Non-Conf Strk     Last 5  \n",
      "0   0 - 8 - 0  1 - 5 - 0  0.167  2 - 10 - 0  0.167  0 - 4 - 0   1W  2 - 3 - 0  \n",
      "1   1 - 6 - 1  0 - 6 - 0  0.000   2 - 9 - 1  0.208  1 - 3 - 0   9L  0 - 5 - 0  \n",
      "2   2 - 6 - 0  0 - 6 - 0  0.000  2 - 10 - 0  0.167  1 - 3 - 0   4L  1 - 4 - 0  \n",
      "3   2 - 6 - 0  2 - 4 - 0  0.333   3 - 9 - 0  0.250  1 - 3 - 0   1L  2 - 3 - 0  \n",
      "4   3 - 5 - 0  1 - 5 - 0  0.167   3 - 8 - 1  0.292  2 - 2 - 0   1L  2 - 3 - 0  \n",
      "5   3 - 5 - 0  1 - 5 - 0  0.167  2 - 10 - 0  0.167  3 - 1 - 0   8L  0 - 5 - 0  \n",
      "6   3 - 5 - 0  0 - 6 - 0  0.000   3 - 9 - 0  0.250  2 - 2 - 0   3L  1 - 4 - 0  \n",
      "7   2 - 6 - 0  2 - 4 - 0  0.333   4 - 8 - 0  0.333  1 - 3 - 0   2W  3 - 2 - 0  \n",
      "8   2 - 6 - 0  3 - 3 - 0  0.500   6 - 6 - 0  0.500  0 - 4 - 0   3L  1 - 4 - 0  \n",
      "9   3 - 5 - 0  2 - 4 - 0  0.333   6 - 6 - 0  0.500  0 - 4 - 0   1W  2 - 3 - 0  \n",
      "10  4 - 4 - 0  4 - 2 - 0  0.667   6 - 6 - 0  0.500  1 - 3 - 0   4W  4 - 1 - 0  \n",
      "11  2 - 6 - 0  3 - 3 - 0  0.500   6 - 6 - 0  0.500  1 - 3 - 0   2W  4 - 1 - 0  \n",
      "12  2 - 6 - 0  3 - 3 - 0  0.500   5 - 7 - 0  0.417  2 - 2 - 0   1L  1 - 4 - 0  \n",
      "13  2 - 6 - 0  3 - 3 - 0  0.500   5 - 7 - 0  0.417  2 - 2 - 0   1L  1 - 4 - 0  \n",
      "14  2 - 6 - 0  2 - 4 - 0  0.333   4 - 8 - 0  0.333  3 - 1 - 0   2W  3 - 2 - 0  \n",
      "15  5 - 3 - 0  2 - 4 - 0  0.333   5 - 7 - 0  0.417  2 - 2 - 0   2L  3 - 2 - 0  \n",
      "16  4 - 4 - 0  4 - 2 - 0  0.667   7 - 5 - 0  0.583  1 - 3 - 0   1W  3 - 2 - 0  \n",
      "17  3 - 5 - 0  5 - 1 - 0  0.833   7 - 5 - 0  0.583  1 - 3 - 0   1W  2 - 3 - 0  \n",
      "18  3 - 5 - 0  3 - 3 - 0  0.500   6 - 6 - 0  0.500  2 - 2 - 0   3L  2 - 3 - 0  \n",
      "19  4 - 4 - 0  3 - 3 - 0  0.500   7 - 5 - 0  0.583  2 - 2 - 0   1W  3 - 2 - 0  \n",
      "20  4 - 4 - 0  5 - 1 - 0  0.833   7 - 5 - 0  0.583  2 - 2 - 0   4W  4 - 1 - 0  \n",
      "21  5 - 3 - 0  3 - 3 - 0  0.500   7 - 5 - 0  0.583  2 - 2 - 0   1W  3 - 2 - 0  \n",
      "22  6 - 2 - 0  3 - 3 - 0  0.500   7 - 5 - 0  0.583  3 - 1 - 0   2L  2 - 3 - 0  \n",
      "23  5 - 3 - 0  4 - 2 - 0  0.667   8 - 4 - 0  0.667  2 - 2 - 0   1L  3 - 2 - 0  \n",
      "24  4 - 4 - 0  2 - 4 - 0  0.333   7 - 5 - 0  0.583  3 - 1 - 0   2L  2 - 3 - 0  \n",
      "25  7 - 1 - 0  3 - 3 - 0  0.500   8 - 4 - 0  0.667  3 - 1 - 0   2L  2 - 3 - 0  \n",
      "26  7 - 1 - 0  6 - 0 - 0  1.000   9 - 3 - 0  0.750  3 - 1 - 0   6W  5 - 0 - 0  \n",
      "27  6 - 2 - 0  5 - 1 - 0  0.833   8 - 4 - 0  0.667  4 - 0 - 0   1L  2 - 3 - 0  \n",
      "28  6 - 2 - 0  6 - 0 - 0  1.000  10 - 2 - 0  0.833  3 - 1 - 0   5W  5 - 0 - 0  \n",
      "29  7 - 1 - 0  5 - 1 - 0  0.833   9 - 3 - 0  0.750  4 - 0 - 0   3W  4 - 1 - 0  \n",
      "30  7 - 1 - 0  5 - 1 - 0  0.833  10 - 2 - 0  0.833  3 - 1 - 0   2W  3 - 2 - 0  \n",
      "31  7 - 1 - 0  5 - 1 - 0  0.833  10 - 2 - 0  0.833  4 - 0 - 0  12W  5 - 0 - 0  \n"
     ]
    }
   ],
   "source": [
    "print(df)"
   ]
  },
  {
   "cell_type": "code",
   "execution_count": 10,
   "id": "feaad34e",
   "metadata": {},
   "outputs": [],
   "source": [
    "df.to_csv('nfl_scraped_data.csv')"
   ]
  },
  {
   "cell_type": "code",
   "execution_count": 13,
   "id": "e58038dc",
   "metadata": {},
   "outputs": [],
   "source": [
    "data=pd.read_csv('nfl_scraped_data.csv')"
   ]
  },
  {
   "cell_type": "code",
   "execution_count": 14,
   "id": "2b66372b",
   "metadata": {},
   "outputs": [
    {
     "data": {
      "text/html": [
       "<div>\n",
       "<style scoped>\n",
       "    .dataframe tbody tr th:only-of-type {\n",
       "        vertical-align: middle;\n",
       "    }\n",
       "\n",
       "    .dataframe tbody tr th {\n",
       "        vertical-align: top;\n",
       "    }\n",
       "\n",
       "    .dataframe thead th {\n",
       "        text-align: right;\n",
       "    }\n",
       "</style>\n",
       "<table border=\"1\" class=\"dataframe\">\n",
       "  <thead>\n",
       "    <tr style=\"text-align: right;\">\n",
       "      <th></th>\n",
       "      <th>Unnamed: 0</th>\n",
       "      <th>NFL Team</th>\n",
       "      <th>W</th>\n",
       "      <th>L</th>\n",
       "      <th>T</th>\n",
       "      <th>PCT</th>\n",
       "      <th>PF</th>\n",
       "      <th>PA</th>\n",
       "      <th>Net Pts</th>\n",
       "      <th>Home</th>\n",
       "      <th>Road</th>\n",
       "      <th>Div</th>\n",
       "      <th>Pct</th>\n",
       "      <th>Conf</th>\n",
       "      <th>Pct.1</th>\n",
       "      <th>Non-Conf</th>\n",
       "      <th>Strk</th>\n",
       "      <th>Last 5</th>\n",
       "    </tr>\n",
       "  </thead>\n",
       "  <tbody>\n",
       "    <tr>\n",
       "      <th>0</th>\n",
       "      <td>0</td>\n",
       "      <td>Cincinnati Bengals</td>\n",
       "      <td>2</td>\n",
       "      <td>14</td>\n",
       "      <td>0</td>\n",
       "      <td>0.125</td>\n",
       "      <td>279</td>\n",
       "      <td>420</td>\n",
       "      <td>-141</td>\n",
       "      <td>2 - 6 - 0</td>\n",
       "      <td>0 - 8 - 0</td>\n",
       "      <td>1 - 5 - 0</td>\n",
       "      <td>0.167</td>\n",
       "      <td>2 - 10 - 0</td>\n",
       "      <td>0.167</td>\n",
       "      <td>0 - 4 - 0</td>\n",
       "      <td>1W</td>\n",
       "      <td>2 - 3 - 0</td>\n",
       "    </tr>\n",
       "    <tr>\n",
       "      <th>1</th>\n",
       "      <td>1</td>\n",
       "      <td>Detroit Lions</td>\n",
       "      <td>3</td>\n",
       "      <td>12</td>\n",
       "      <td>1</td>\n",
       "      <td>0.219</td>\n",
       "      <td>341</td>\n",
       "      <td>423</td>\n",
       "      <td>-82</td>\n",
       "      <td>2 - 6 - 0</td>\n",
       "      <td>1 - 6 - 1</td>\n",
       "      <td>0 - 6 - 0</td>\n",
       "      <td>0.000</td>\n",
       "      <td>2 - 9 - 1</td>\n",
       "      <td>0.208</td>\n",
       "      <td>1 - 3 - 0</td>\n",
       "      <td>9L</td>\n",
       "      <td>0 - 5 - 0</td>\n",
       "    </tr>\n",
       "    <tr>\n",
       "      <th>2</th>\n",
       "      <td>2</td>\n",
       "      <td>Washington Commanders</td>\n",
       "      <td>3</td>\n",
       "      <td>13</td>\n",
       "      <td>0</td>\n",
       "      <td>0.188</td>\n",
       "      <td>266</td>\n",
       "      <td>435</td>\n",
       "      <td>-169</td>\n",
       "      <td>1 - 7 - 0</td>\n",
       "      <td>2 - 6 - 0</td>\n",
       "      <td>0 - 6 - 0</td>\n",
       "      <td>0.000</td>\n",
       "      <td>2 - 10 - 0</td>\n",
       "      <td>0.167</td>\n",
       "      <td>1 - 3 - 0</td>\n",
       "      <td>4L</td>\n",
       "      <td>1 - 4 - 0</td>\n",
       "    </tr>\n",
       "    <tr>\n",
       "      <th>3</th>\n",
       "      <td>3</td>\n",
       "      <td>New York Giants</td>\n",
       "      <td>4</td>\n",
       "      <td>12</td>\n",
       "      <td>0</td>\n",
       "      <td>0.250</td>\n",
       "      <td>341</td>\n",
       "      <td>451</td>\n",
       "      <td>-110</td>\n",
       "      <td>2 - 6 - 0</td>\n",
       "      <td>2 - 6 - 0</td>\n",
       "      <td>2 - 4 - 0</td>\n",
       "      <td>0.333</td>\n",
       "      <td>3 - 9 - 0</td>\n",
       "      <td>0.250</td>\n",
       "      <td>1 - 3 - 0</td>\n",
       "      <td>1L</td>\n",
       "      <td>2 - 3 - 0</td>\n",
       "    </tr>\n",
       "    <tr>\n",
       "      <th>4</th>\n",
       "      <td>4</td>\n",
       "      <td>Arizona Cardinals</td>\n",
       "      <td>5</td>\n",
       "      <td>10</td>\n",
       "      <td>1</td>\n",
       "      <td>0.344</td>\n",
       "      <td>361</td>\n",
       "      <td>442</td>\n",
       "      <td>-81</td>\n",
       "      <td>2 - 5 - 1</td>\n",
       "      <td>3 - 5 - 0</td>\n",
       "      <td>1 - 5 - 0</td>\n",
       "      <td>0.167</td>\n",
       "      <td>3 - 8 - 1</td>\n",
       "      <td>0.292</td>\n",
       "      <td>2 - 2 - 0</td>\n",
       "      <td>1L</td>\n",
       "      <td>2 - 3 - 0</td>\n",
       "    </tr>\n",
       "  </tbody>\n",
       "</table>\n",
       "</div>"
      ],
      "text/plain": [
       "   Unnamed: 0               NFL Team  W   L  T    PCT   PF   PA  Net Pts  \\\n",
       "0           0     Cincinnati Bengals  2  14  0  0.125  279  420     -141   \n",
       "1           1          Detroit Lions  3  12  1  0.219  341  423      -82   \n",
       "2           2  Washington Commanders  3  13  0  0.188  266  435     -169   \n",
       "3           3        New York Giants  4  12  0  0.250  341  451     -110   \n",
       "4           4      Arizona Cardinals  5  10  1  0.344  361  442      -81   \n",
       "\n",
       "        Home       Road        Div    Pct        Conf  Pct.1   Non-Conf Strk  \\\n",
       "0  2 - 6 - 0  0 - 8 - 0  1 - 5 - 0  0.167  2 - 10 - 0  0.167  0 - 4 - 0   1W   \n",
       "1  2 - 6 - 0  1 - 6 - 1  0 - 6 - 0  0.000   2 - 9 - 1  0.208  1 - 3 - 0   9L   \n",
       "2  1 - 7 - 0  2 - 6 - 0  0 - 6 - 0  0.000  2 - 10 - 0  0.167  1 - 3 - 0   4L   \n",
       "3  2 - 6 - 0  2 - 6 - 0  2 - 4 - 0  0.333   3 - 9 - 0  0.250  1 - 3 - 0   1L   \n",
       "4  2 - 5 - 1  3 - 5 - 0  1 - 5 - 0  0.167   3 - 8 - 1  0.292  2 - 2 - 0   1L   \n",
       "\n",
       "      Last 5  \n",
       "0  2 - 3 - 0  \n",
       "1  0 - 5 - 0  \n",
       "2  1 - 4 - 0  \n",
       "3  2 - 3 - 0  \n",
       "4  2 - 3 - 0  "
      ]
     },
     "execution_count": 14,
     "metadata": {},
     "output_type": "execute_result"
    }
   ],
   "source": [
    "data.head()"
   ]
  },
  {
   "cell_type": "code",
   "execution_count": null,
   "id": "f6695e8f",
   "metadata": {},
   "outputs": [],
   "source": []
  },
  {
   "cell_type": "code",
   "execution_count": null,
   "id": "103741a9",
   "metadata": {},
   "outputs": [],
   "source": []
  }
 ],
 "metadata": {
  "kernelspec": {
   "display_name": "Python 3 (ipykernel)",
   "language": "python",
   "name": "python3"
  },
  "language_info": {
   "codemirror_mode": {
    "name": "ipython",
    "version": 3
   },
   "file_extension": ".py",
   "mimetype": "text/x-python",
   "name": "python",
   "nbconvert_exporter": "python",
   "pygments_lexer": "ipython3",
   "version": "3.9.12"
  }
 },
 "nbformat": 4,
 "nbformat_minor": 5
}
