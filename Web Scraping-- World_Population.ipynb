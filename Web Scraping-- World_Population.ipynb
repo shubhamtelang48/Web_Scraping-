{
 "cells": [
  {
   "cell_type": "markdown",
   "id": "74cd0af3",
   "metadata": {},
   "source": [
    "# Scarping World Population data from Worldometer Website using Web Scarping Library."
   ]
  },
  {
   "cell_type": "code",
   "execution_count": 1,
   "id": "92c4151a",
   "metadata": {},
   "outputs": [],
   "source": [
    "import requests\n",
    "from bs4 import BeautifulSoup\n",
    "import pandas as pd"
   ]
  },
  {
   "cell_type": "code",
   "execution_count": 2,
   "id": "08817de5",
   "metadata": {},
   "outputs": [],
   "source": [
    "url = \"https://www.worldometers.info/world-population/\"\n"
   ]
  },
  {
   "cell_type": "code",
   "execution_count": 3,
   "id": "34af93a8",
   "metadata": {},
   "outputs": [],
   "source": [
    "page = requests.get(url)"
   ]
  },
  {
   "cell_type": "code",
   "execution_count": 4,
   "id": "3bfb5ea7",
   "metadata": {},
   "outputs": [],
   "source": [
    "soup = BeautifulSoup(page.text, 'lxml')"
   ]
  },
  {
   "cell_type": "code",
   "execution_count": 7,
   "id": "065ba9de",
   "metadata": {},
   "outputs": [
    {
     "data": {
      "text/plain": [
       "<table class=\"table table-striped table-bordered table-hover table-condensed table-list\"><thead> <tr> <th>Year<br/> (July 1) </th><th>Population</th><th>Yearly % <br/> Change</th><th>Yearly<br/> Change</th><th>Median <br/>Age</th><th>Fertility <br/>Rate</th><th>Density <br/>(P/Km²)</th> </tr></thead><tbody> <tr> <td>2023</td> <td><strong>8,045,311,447</strong></td> <td>0.88 %</td> <td>70,206,291</td> <td>30.5</td> <td>2.31</td> <td>54</td> </tr> <tr> <td>2022</td> <td><strong>7,975,105,156</strong></td> <td>0.83 %</td> <td>65,810,005</td> <td>30.2</td> <td>2.31</td> <td>54</td> </tr> <tr> <td>2021</td> <td><strong>7,909,295,151</strong></td> <td>0.87 %</td> <td>68,342,271</td> <td>30.0</td> <td>2.32</td> <td>53</td> </tr> <tr> <td>2020</td> <td><strong>7,840,952,880</strong></td> <td>0.98 %</td> <td>76,001,848</td> <td>29.7</td> <td>2.35</td> <td>53</td> </tr><tr> <td>2015</td> <td><strong>7,426,597,537</strong></td> <td>1.23 %</td> <td>88,198,886</td> <td>28</td> <td>2.52</td> <td>50</td> </tr><tr> <td>2010</td> <td><strong>6,985,603,105</strong></td> <td>1.27 %</td> <td>85,485,397</td> <td>27</td> <td>2.59</td> <td>47</td> </tr><tr> <td>2005</td> <td><strong>6,558,176,119</strong></td> <td>1.30 %</td> <td>81,855,429</td> <td>26</td> <td>2.62</td> <td>44</td> </tr><tr> <td>2000</td> <td><strong>6,148,898,975</strong></td> <td>1.37 %</td> <td>81,135,904</td> <td>25</td> <td>2.73</td> <td>41</td> </tr><tr> <td>1995</td> <td><strong>5,743,219,454</strong></td> <td>1.56 %</td> <td>85,408,718</td> <td>24</td> <td>2.88</td> <td>39</td> </tr><tr> <td>1990</td> <td><strong>5,316,175,862</strong></td> <td>1.80 %</td> <td>90,889,050</td> <td>23</td> <td>3.31</td> <td>36</td> </tr><tr> <td>1985</td> <td><strong>4,861,730,613</strong></td> <td>1.81 %</td> <td>83,544,581</td> <td>22</td><td>3.52</td> <td>33</td> </tr><tr> <td>1980</td> <td><strong>4,444,007,706</strong></td> <td>1.78 %</td> <td>74,914,095</td> <td>22</td> <td>3.75</td> <td>30</td> </tr><tr> <td>1975</td> <td><strong>4,069,437,231</strong></td> <td>1.95 %</td> <td>74,809,379</td> <td>21</td> <td>4.08</td> <td>27</td> </tr><tr> <td>1970</td> <td><strong>3,695,390,336</strong></td> <td>2.06 %</td> <td>71,655,671</td> <td>20</td><td>4.83</td> <td>25</td> </tr><tr> <td>1965</td> <td><strong>3,337,111,983</strong></td> <td>2.02 %</td> <td>63,575,710</td> <td>21</td> <td>5.08</td> <td>22</td> </tr><tr> <td>1960</td> <td><strong>3,019,233,434</strong></td> <td>1.91 %</td> <td>54,632,259</td> <td>21</td> <td>4.70</td> <td>20</td> </tr><tr> <td>1955</td> <td><strong>2,746,072,141</strong></td> <td>1.90 %</td> <td>49,349,997</td> <td>22</td> <td>5.01</td> <td>18</td> </tr></tbody></table>"
      ]
     },
     "execution_count": 7,
     "metadata": {},
     "output_type": "execute_result"
    }
   ],
   "source": [
    "soup.find('table', class_ = 'table table-striped table-bordered table-hover table-condensed table-list')\n"
   ]
  },
  {
   "cell_type": "code",
   "execution_count": 5,
   "id": "dcc314ba",
   "metadata": {},
   "outputs": [],
   "source": [
    "table = soup.find('table', class_ = 'table table-striped table-bordered table-hover table-condensed table-list')\n"
   ]
  },
  {
   "cell_type": "code",
   "execution_count": 6,
   "id": "d6784087",
   "metadata": {},
   "outputs": [],
   "source": [
    "headers = []\n",
    "\n",
    "for i in table.find_all('th'):\n",
    "    title = i.text\n",
    "    headers.append(title)"
   ]
  },
  {
   "cell_type": "code",
   "execution_count": 8,
   "id": "249addef",
   "metadata": {},
   "outputs": [],
   "source": [
    "df = pd.DataFrame(columns= headers)"
   ]
  },
  {
   "cell_type": "code",
   "execution_count": 9,
   "id": "df13d584",
   "metadata": {},
   "outputs": [
    {
     "data": {
      "text/html": [
       "<div>\n",
       "<style scoped>\n",
       "    .dataframe tbody tr th:only-of-type {\n",
       "        vertical-align: middle;\n",
       "    }\n",
       "\n",
       "    .dataframe tbody tr th {\n",
       "        vertical-align: top;\n",
       "    }\n",
       "\n",
       "    .dataframe thead th {\n",
       "        text-align: right;\n",
       "    }\n",
       "</style>\n",
       "<table border=\"1\" class=\"dataframe\">\n",
       "  <thead>\n",
       "    <tr style=\"text-align: right;\">\n",
       "      <th></th>\n",
       "      <th>Year (July 1)</th>\n",
       "      <th>Population</th>\n",
       "      <th>Yearly %  Change</th>\n",
       "      <th>Yearly Change</th>\n",
       "      <th>Median Age</th>\n",
       "      <th>Fertility Rate</th>\n",
       "      <th>Density (P/Km²)</th>\n",
       "    </tr>\n",
       "  </thead>\n",
       "  <tbody>\n",
       "  </tbody>\n",
       "</table>\n",
       "</div>"
      ],
      "text/plain": [
       "Empty DataFrame\n",
       "Columns: [Year (July 1) , Population, Yearly %  Change, Yearly Change, Median Age, Fertility Rate, Density (P/Km²)]\n",
       "Index: []"
      ]
     },
     "execution_count": 9,
     "metadata": {},
     "output_type": "execute_result"
    }
   ],
   "source": [
    "df.head()"
   ]
  },
  {
   "cell_type": "code",
   "execution_count": 10,
   "id": "c0eefbbc",
   "metadata": {},
   "outputs": [],
   "source": [
    "for j in table.find_all('tr')[1:]:\n",
    "    row_data = j.find_all('td')\n",
    "    row = [tr.text for tr in row_data]\n",
    "    length = len(df)\n",
    "    df.loc[length] = row\n"
   ]
  },
  {
   "cell_type": "code",
   "execution_count": 11,
   "id": "2d8b4721",
   "metadata": {},
   "outputs": [
    {
     "data": {
      "text/html": [
       "<div>\n",
       "<style scoped>\n",
       "    .dataframe tbody tr th:only-of-type {\n",
       "        vertical-align: middle;\n",
       "    }\n",
       "\n",
       "    .dataframe tbody tr th {\n",
       "        vertical-align: top;\n",
       "    }\n",
       "\n",
       "    .dataframe thead th {\n",
       "        text-align: right;\n",
       "    }\n",
       "</style>\n",
       "<table border=\"1\" class=\"dataframe\">\n",
       "  <thead>\n",
       "    <tr style=\"text-align: right;\">\n",
       "      <th></th>\n",
       "      <th>Year (July 1)</th>\n",
       "      <th>Population</th>\n",
       "      <th>Yearly %  Change</th>\n",
       "      <th>Yearly Change</th>\n",
       "      <th>Median Age</th>\n",
       "      <th>Fertility Rate</th>\n",
       "      <th>Density (P/Km²)</th>\n",
       "    </tr>\n",
       "  </thead>\n",
       "  <tbody>\n",
       "    <tr>\n",
       "      <th>0</th>\n",
       "      <td>2023</td>\n",
       "      <td>8,045,311,447</td>\n",
       "      <td>0.88 %</td>\n",
       "      <td>70,206,291</td>\n",
       "      <td>30.5</td>\n",
       "      <td>2.31</td>\n",
       "      <td>54</td>\n",
       "    </tr>\n",
       "    <tr>\n",
       "      <th>1</th>\n",
       "      <td>2022</td>\n",
       "      <td>7,975,105,156</td>\n",
       "      <td>0.83 %</td>\n",
       "      <td>65,810,005</td>\n",
       "      <td>30.2</td>\n",
       "      <td>2.31</td>\n",
       "      <td>54</td>\n",
       "    </tr>\n",
       "    <tr>\n",
       "      <th>2</th>\n",
       "      <td>2021</td>\n",
       "      <td>7,909,295,151</td>\n",
       "      <td>0.87 %</td>\n",
       "      <td>68,342,271</td>\n",
       "      <td>30.0</td>\n",
       "      <td>2.32</td>\n",
       "      <td>53</td>\n",
       "    </tr>\n",
       "    <tr>\n",
       "      <th>3</th>\n",
       "      <td>2020</td>\n",
       "      <td>7,840,952,880</td>\n",
       "      <td>0.98 %</td>\n",
       "      <td>76,001,848</td>\n",
       "      <td>29.7</td>\n",
       "      <td>2.35</td>\n",
       "      <td>53</td>\n",
       "    </tr>\n",
       "    <tr>\n",
       "      <th>4</th>\n",
       "      <td>2015</td>\n",
       "      <td>7,426,597,537</td>\n",
       "      <td>1.23 %</td>\n",
       "      <td>88,198,886</td>\n",
       "      <td>28</td>\n",
       "      <td>2.52</td>\n",
       "      <td>50</td>\n",
       "    </tr>\n",
       "  </tbody>\n",
       "</table>\n",
       "</div>"
      ],
      "text/plain": [
       "  Year (July 1)      Population Yearly %  Change Yearly Change Median Age  \\\n",
       "0           2023  8,045,311,447           0.88 %    70,206,291       30.5   \n",
       "1           2022  7,975,105,156           0.83 %    65,810,005       30.2   \n",
       "2           2021  7,909,295,151           0.87 %    68,342,271       30.0   \n",
       "3           2020  7,840,952,880           0.98 %    76,001,848       29.7   \n",
       "4           2015  7,426,597,537           1.23 %    88,198,886         28   \n",
       "\n",
       "  Fertility Rate Density (P/Km²)  \n",
       "0           2.31              54  \n",
       "1           2.31              54  \n",
       "2           2.32              53  \n",
       "3           2.35              53  \n",
       "4           2.52              50  "
      ]
     },
     "execution_count": 11,
     "metadata": {},
     "output_type": "execute_result"
    }
   ],
   "source": [
    "df.head()"
   ]
  },
  {
   "cell_type": "code",
   "execution_count": 13,
   "id": "23694948",
   "metadata": {},
   "outputs": [
    {
     "name": "stdout",
     "output_type": "stream",
     "text": [
      "   Year (July 1)      Population Yearly %  Change Yearly Change Median Age  \\\n",
      "0            2023  8,045,311,447           0.88 %    70,206,291       30.5   \n",
      "1            2022  7,975,105,156           0.83 %    65,810,005       30.2   \n",
      "2            2021  7,909,295,151           0.87 %    68,342,271       30.0   \n",
      "3            2020  7,840,952,880           0.98 %    76,001,848       29.7   \n",
      "4            2015  7,426,597,537           1.23 %    88,198,886         28   \n",
      "5            2010  6,985,603,105           1.27 %    85,485,397         27   \n",
      "6            2005  6,558,176,119           1.30 %    81,855,429         26   \n",
      "7            2000  6,148,898,975           1.37 %    81,135,904         25   \n",
      "8            1995  5,743,219,454           1.56 %    85,408,718         24   \n",
      "9            1990  5,316,175,862           1.80 %    90,889,050         23   \n",
      "10           1985  4,861,730,613           1.81 %    83,544,581         22   \n",
      "11           1980  4,444,007,706           1.78 %    74,914,095         22   \n",
      "12           1975  4,069,437,231           1.95 %    74,809,379         21   \n",
      "13           1970  3,695,390,336           2.06 %    71,655,671         20   \n",
      "14           1965  3,337,111,983           2.02 %    63,575,710         21   \n",
      "15           1960  3,019,233,434           1.91 %    54,632,259         21   \n",
      "16           1955  2,746,072,141           1.90 %    49,349,997         22   \n",
      "\n",
      "   Fertility Rate Density (P/Km²)  \n",
      "0            2.31              54  \n",
      "1            2.31              54  \n",
      "2            2.32              53  \n",
      "3            2.35              53  \n",
      "4            2.52              50  \n",
      "5            2.59              47  \n",
      "6            2.62              44  \n",
      "7            2.73              41  \n",
      "8            2.88              39  \n",
      "9            3.31              36  \n",
      "10           3.52              33  \n",
      "11           3.75              30  \n",
      "12           4.08              27  \n",
      "13           4.83              25  \n",
      "14           5.08              22  \n",
      "15           4.70              20  \n",
      "16           5.01              18  \n"
     ]
    }
   ],
   "source": [
    "print(df)"
   ]
  },
  {
   "cell_type": "code",
   "execution_count": 12,
   "id": "0e162dec",
   "metadata": {},
   "outputs": [],
   "source": [
    "df.to_csv(\"Population.csv\")"
   ]
  },
  {
   "cell_type": "code",
   "execution_count": null,
   "id": "09e71c29",
   "metadata": {},
   "outputs": [],
   "source": []
  }
 ],
 "metadata": {
  "kernelspec": {
   "display_name": "Python 3 (ipykernel)",
   "language": "python",
   "name": "python3"
  },
  "language_info": {
   "codemirror_mode": {
    "name": "ipython",
    "version": 3
   },
   "file_extension": ".py",
   "mimetype": "text/x-python",
   "name": "python",
   "nbconvert_exporter": "python",
   "pygments_lexer": "ipython3",
   "version": "3.9.12"
  }
 },
 "nbformat": 4,
 "nbformat_minor": 5
}
